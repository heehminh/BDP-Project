{
 "cells": [
  {
   "cell_type": "code",
   "execution_count": null,
   "id": "a02230ae-da5c-4e9b-ad77-3f65de727fdb",
   "metadata": {},
   "outputs": [],
   "source": [
    "import findspark\n",
    "findspark.init()\n",
    "\n",
    "from pyspark.sql import SparkSession\n",
    "#sparksession 드라이버 프로세스 얻기\n",
    "spark = SparkSession.builder.appName(\"sample\").master(\"local[*]\").getOrCreate()\n",
    "#클러스터모드의 경우 master에 local[*] 대신 yarn이 들어간다.\n",
    "spark.conf.set(\"spark.sql.repl.eagerEval.enabled\",True)\n",
    "#jupyter환경에서만 가능한 config, .show\"()메소드를 사용할 필요없이 dataframe만 실행해도,정렬된 프린팅을 해준다."
   ]
  },
  {
   "cell_type": "code",
   "execution_count": 554,
   "id": "a6cf1d04-090f-4172-85c8-01ff9f300449",
   "metadata": {},
   "outputs": [
    {
     "ename": "ConnectionRefusedError",
     "evalue": "[WinError 10061] 대상 컴퓨터에서 연결을 거부했으므로 연결하지 못했습니다",
     "output_type": "error",
     "traceback": [
      "\u001b[1;31m---------------------------------------------------------------------------\u001b[0m",
      "\u001b[1;31mConnectionResetError\u001b[0m                      Traceback (most recent call last)",
      "\u001b[1;32mC:\\spark\\spark-3.3.1-bin-hadoop3\\python\\lib\\py4j-0.10.9.5-src.zip\\py4j\\clientserver.py\u001b[0m in \u001b[0;36msend_command\u001b[1;34m(self, command)\u001b[0m\n\u001b[0;32m    502\u001b[0m         \u001b[1;32mtry\u001b[0m\u001b[1;33m:\u001b[0m\u001b[1;33m\u001b[0m\u001b[1;33m\u001b[0m\u001b[0m\n\u001b[1;32m--> 503\u001b[1;33m             \u001b[0mself\u001b[0m\u001b[1;33m.\u001b[0m\u001b[0msocket\u001b[0m\u001b[1;33m.\u001b[0m\u001b[0msendall\u001b[0m\u001b[1;33m(\u001b[0m\u001b[0mcommand\u001b[0m\u001b[1;33m.\u001b[0m\u001b[0mencode\u001b[0m\u001b[1;33m(\u001b[0m\u001b[1;34m\"utf-8\"\u001b[0m\u001b[1;33m)\u001b[0m\u001b[1;33m)\u001b[0m\u001b[1;33m\u001b[0m\u001b[1;33m\u001b[0m\u001b[0m\n\u001b[0m\u001b[0;32m    504\u001b[0m         \u001b[1;32mexcept\u001b[0m \u001b[0mException\u001b[0m \u001b[1;32mas\u001b[0m \u001b[0me\u001b[0m\u001b[1;33m:\u001b[0m\u001b[1;33m\u001b[0m\u001b[1;33m\u001b[0m\u001b[0m\n",
      "\u001b[1;31mConnectionResetError\u001b[0m: [WinError 10054] 현재 연결은 원격 호스트에 의해 강제로 끊겼습니다",
      "\nDuring handling of the above exception, another exception occurred:\n",
      "\u001b[1;31mPy4JNetworkError\u001b[0m                          Traceback (most recent call last)",
      "\u001b[1;32mC:\\spark\\spark-3.3.1-bin-hadoop3\\python\\lib\\py4j-0.10.9.5-src.zip\\py4j\\java_gateway.py\u001b[0m in \u001b[0;36msend_command\u001b[1;34m(self, command, retry, binary)\u001b[0m\n\u001b[0;32m   1037\u001b[0m         \u001b[1;32mtry\u001b[0m\u001b[1;33m:\u001b[0m\u001b[1;33m\u001b[0m\u001b[1;33m\u001b[0m\u001b[0m\n\u001b[1;32m-> 1038\u001b[1;33m             \u001b[0mresponse\u001b[0m \u001b[1;33m=\u001b[0m \u001b[0mconnection\u001b[0m\u001b[1;33m.\u001b[0m\u001b[0msend_command\u001b[0m\u001b[1;33m(\u001b[0m\u001b[0mcommand\u001b[0m\u001b[1;33m)\u001b[0m\u001b[1;33m\u001b[0m\u001b[1;33m\u001b[0m\u001b[0m\n\u001b[0m\u001b[0;32m   1039\u001b[0m             \u001b[1;32mif\u001b[0m \u001b[0mbinary\u001b[0m\u001b[1;33m:\u001b[0m\u001b[1;33m\u001b[0m\u001b[1;33m\u001b[0m\u001b[0m\n",
      "\u001b[1;32mC:\\spark\\spark-3.3.1-bin-hadoop3\\python\\lib\\py4j-0.10.9.5-src.zip\\py4j\\clientserver.py\u001b[0m in \u001b[0;36msend_command\u001b[1;34m(self, command)\u001b[0m\n\u001b[0;32m    505\u001b[0m             \u001b[0mlogger\u001b[0m\u001b[1;33m.\u001b[0m\u001b[0minfo\u001b[0m\u001b[1;33m(\u001b[0m\u001b[1;34m\"Error while sending or receiving.\"\u001b[0m\u001b[1;33m,\u001b[0m \u001b[0mexc_info\u001b[0m\u001b[1;33m=\u001b[0m\u001b[1;32mTrue\u001b[0m\u001b[1;33m)\u001b[0m\u001b[1;33m\u001b[0m\u001b[1;33m\u001b[0m\u001b[0m\n\u001b[1;32m--> 506\u001b[1;33m             raise Py4JNetworkError(\n\u001b[0m\u001b[0;32m    507\u001b[0m                 \"Error while sending\", e, proto.ERROR_ON_SEND)\n",
      "\u001b[1;31mPy4JNetworkError\u001b[0m: Error while sending",
      "\nDuring handling of the above exception, another exception occurred:\n",
      "\u001b[1;31mConnectionRefusedError\u001b[0m                    Traceback (most recent call last)",
      "\u001b[1;32m~\\AppData\\Local\\Temp\\ipykernel_10452\\3063938760.py\u001b[0m in \u001b[0;36m<module>\u001b[1;34m\u001b[0m\n\u001b[1;32m----> 1\u001b[1;33m \u001b[0mmain\u001b[0m \u001b[1;33m=\u001b[0m \u001b[0mspark\u001b[0m\u001b[1;33m.\u001b[0m\u001b[0mread\u001b[0m\u001b[1;33m.\u001b[0m\u001b[0mcsv\u001b[0m\u001b[1;33m(\u001b[0m\u001b[1;34m\"C://Users//iam_o//BDP-Project//gas_data//main.csv\"\u001b[0m\u001b[1;33m,\u001b[0m \u001b[0mheader\u001b[0m\u001b[1;33m=\u001b[0m\u001b[1;34m\"true\"\u001b[0m\u001b[1;33m,\u001b[0m \u001b[0minferSchema\u001b[0m\u001b[1;33m=\u001b[0m\u001b[1;34m\"true\"\u001b[0m\u001b[1;33m,\u001b[0m \u001b[0mencoding\u001b[0m\u001b[1;33m=\u001b[0m\u001b[1;34m\"cp949\"\u001b[0m\u001b[1;33m)\u001b[0m\u001b[1;33m\u001b[0m\u001b[1;33m\u001b[0m\u001b[0m\n\u001b[0m\u001b[0;32m      2\u001b[0m \u001b[0moil\u001b[0m \u001b[1;33m=\u001b[0m \u001b[0mspark\u001b[0m\u001b[1;33m.\u001b[0m\u001b[0mread\u001b[0m\u001b[1;33m.\u001b[0m\u001b[0mcsv\u001b[0m\u001b[1;33m(\u001b[0m\u001b[1;34m\"C://Users//iam_o//BDP-Project//gas_data//oil.csv\"\u001b[0m\u001b[1;33m,\u001b[0m \u001b[0mheader\u001b[0m\u001b[1;33m=\u001b[0m\u001b[1;34m\"true\"\u001b[0m\u001b[1;33m,\u001b[0m \u001b[0minferSchema\u001b[0m\u001b[1;33m=\u001b[0m\u001b[1;34m\"true\"\u001b[0m\u001b[1;33m,\u001b[0m \u001b[0mencoding\u001b[0m\u001b[1;33m=\u001b[0m\u001b[1;34m\"cp949\"\u001b[0m\u001b[1;33m)\u001b[0m\u001b[1;33m\u001b[0m\u001b[1;33m\u001b[0m\u001b[0m\n\u001b[0;32m      3\u001b[0m \u001b[0melectricity\u001b[0m \u001b[1;33m=\u001b[0m \u001b[0mspark\u001b[0m\u001b[1;33m.\u001b[0m\u001b[0mread\u001b[0m\u001b[1;33m.\u001b[0m\u001b[0mcsv\u001b[0m\u001b[1;33m(\u001b[0m\u001b[1;34m\"C://Users//iam_o//BDP-Project//gas_data//electricity.csv\"\u001b[0m\u001b[1;33m,\u001b[0m \u001b[0mheader\u001b[0m\u001b[1;33m=\u001b[0m\u001b[1;34m\"true\"\u001b[0m\u001b[1;33m,\u001b[0m \u001b[0minferSchema\u001b[0m\u001b[1;33m=\u001b[0m\u001b[1;34m\"true\"\u001b[0m\u001b[1;33m,\u001b[0m\u001b[0mencoding\u001b[0m\u001b[1;33m=\u001b[0m\u001b[1;34m\"cp949\"\u001b[0m\u001b[1;33m)\u001b[0m\u001b[1;33m\u001b[0m\u001b[1;33m\u001b[0m\u001b[0m\n\u001b[0;32m      4\u001b[0m \u001b[0mimport_index\u001b[0m \u001b[1;33m=\u001b[0m \u001b[0mspark\u001b[0m\u001b[1;33m.\u001b[0m\u001b[0mread\u001b[0m\u001b[1;33m.\u001b[0m\u001b[0mcsv\u001b[0m\u001b[1;33m(\u001b[0m\u001b[1;34m\"C://Users//iam_o//BDP-Project//gas_data//import_index.csv\"\u001b[0m\u001b[1;33m,\u001b[0m \u001b[0mheader\u001b[0m\u001b[1;33m=\u001b[0m\u001b[1;34m\"true\"\u001b[0m\u001b[1;33m,\u001b[0m \u001b[0minferSchema\u001b[0m\u001b[1;33m=\u001b[0m\u001b[1;34m\"true\"\u001b[0m\u001b[1;33m,\u001b[0m\u001b[0mencoding\u001b[0m\u001b[1;33m=\u001b[0m\u001b[1;34m\"cp949\"\u001b[0m\u001b[1;33m)\u001b[0m\u001b[1;33m\u001b[0m\u001b[1;33m\u001b[0m\u001b[0m\n\u001b[0;32m      5\u001b[0m \u001b[0mlng\u001b[0m \u001b[1;33m=\u001b[0m \u001b[0mspark\u001b[0m\u001b[1;33m.\u001b[0m\u001b[0mread\u001b[0m\u001b[1;33m.\u001b[0m\u001b[0mcsv\u001b[0m\u001b[1;33m(\u001b[0m\u001b[1;34m\"C://Users//iam_o//BDP-Project//gas_data//lng.csv\"\u001b[0m\u001b[1;33m,\u001b[0m \u001b[0mheader\u001b[0m\u001b[1;33m=\u001b[0m\u001b[1;34m\"true\"\u001b[0m\u001b[1;33m,\u001b[0m \u001b[0minferSchema\u001b[0m\u001b[1;33m=\u001b[0m\u001b[1;34m\"true\"\u001b[0m\u001b[1;33m,\u001b[0m\u001b[0mencoding\u001b[0m\u001b[1;33m=\u001b[0m\u001b[1;34m\"cp949\"\u001b[0m\u001b[1;33m)\u001b[0m\u001b[1;33m\u001b[0m\u001b[1;33m\u001b[0m\u001b[0m\n",
      "\u001b[1;32mC:\\spark\\spark-3.3.1-bin-hadoop3\\python\\pyspark\\sql\\session.py\u001b[0m in \u001b[0;36mread\u001b[1;34m(self)\u001b[0m\n\u001b[0;32m   1067\u001b[0m         \u001b[1;33m:\u001b[0m\u001b[1;32mclass\u001b[0m\u001b[1;33m:\u001b[0m\u001b[0;31m`\u001b[0m\u001b[0mDataFrameReader\u001b[0m\u001b[0;31m`\u001b[0m\u001b[1;33m\u001b[0m\u001b[1;33m\u001b[0m\u001b[0m\n\u001b[0;32m   1068\u001b[0m         \"\"\"\n\u001b[1;32m-> 1069\u001b[1;33m         \u001b[1;32mreturn\u001b[0m \u001b[0mDataFrameReader\u001b[0m\u001b[1;33m(\u001b[0m\u001b[0mself\u001b[0m\u001b[1;33m)\u001b[0m\u001b[1;33m\u001b[0m\u001b[1;33m\u001b[0m\u001b[0m\n\u001b[0m\u001b[0;32m   1070\u001b[0m \u001b[1;33m\u001b[0m\u001b[0m\n\u001b[0;32m   1071\u001b[0m     \u001b[1;33m@\u001b[0m\u001b[0mproperty\u001b[0m\u001b[1;33m\u001b[0m\u001b[1;33m\u001b[0m\u001b[0m\n",
      "\u001b[1;32mC:\\spark\\spark-3.3.1-bin-hadoop3\\python\\pyspark\\sql\\readwriter.py\u001b[0m in \u001b[0;36m__init__\u001b[1;34m(self, spark)\u001b[0m\n\u001b[0;32m     64\u001b[0m \u001b[1;33m\u001b[0m\u001b[0m\n\u001b[0;32m     65\u001b[0m     \u001b[1;32mdef\u001b[0m \u001b[0m__init__\u001b[0m\u001b[1;33m(\u001b[0m\u001b[0mself\u001b[0m\u001b[1;33m,\u001b[0m \u001b[0mspark\u001b[0m\u001b[1;33m:\u001b[0m \u001b[1;34m\"SparkSession\"\u001b[0m\u001b[1;33m)\u001b[0m\u001b[1;33m:\u001b[0m\u001b[1;33m\u001b[0m\u001b[1;33m\u001b[0m\u001b[0m\n\u001b[1;32m---> 66\u001b[1;33m         \u001b[0mself\u001b[0m\u001b[1;33m.\u001b[0m\u001b[0m_jreader\u001b[0m \u001b[1;33m=\u001b[0m \u001b[0mspark\u001b[0m\u001b[1;33m.\u001b[0m\u001b[0m_jsparkSession\u001b[0m\u001b[1;33m.\u001b[0m\u001b[0mread\u001b[0m\u001b[1;33m(\u001b[0m\u001b[1;33m)\u001b[0m\u001b[1;33m\u001b[0m\u001b[1;33m\u001b[0m\u001b[0m\n\u001b[0m\u001b[0;32m     67\u001b[0m         \u001b[0mself\u001b[0m\u001b[1;33m.\u001b[0m\u001b[0m_spark\u001b[0m \u001b[1;33m=\u001b[0m \u001b[0mspark\u001b[0m\u001b[1;33m\u001b[0m\u001b[1;33m\u001b[0m\u001b[0m\n\u001b[0;32m     68\u001b[0m \u001b[1;33m\u001b[0m\u001b[0m\n",
      "\u001b[1;32mC:\\spark\\spark-3.3.1-bin-hadoop3\\python\\lib\\py4j-0.10.9.5-src.zip\\py4j\\java_gateway.py\u001b[0m in \u001b[0;36m__call__\u001b[1;34m(self, *args)\u001b[0m\n\u001b[0;32m   1318\u001b[0m             \u001b[0mproto\u001b[0m\u001b[1;33m.\u001b[0m\u001b[0mEND_COMMAND_PART\u001b[0m\u001b[1;33m\u001b[0m\u001b[1;33m\u001b[0m\u001b[0m\n\u001b[0;32m   1319\u001b[0m \u001b[1;33m\u001b[0m\u001b[0m\n\u001b[1;32m-> 1320\u001b[1;33m         \u001b[0manswer\u001b[0m \u001b[1;33m=\u001b[0m \u001b[0mself\u001b[0m\u001b[1;33m.\u001b[0m\u001b[0mgateway_client\u001b[0m\u001b[1;33m.\u001b[0m\u001b[0msend_command\u001b[0m\u001b[1;33m(\u001b[0m\u001b[0mcommand\u001b[0m\u001b[1;33m)\u001b[0m\u001b[1;33m\u001b[0m\u001b[1;33m\u001b[0m\u001b[0m\n\u001b[0m\u001b[0;32m   1321\u001b[0m         return_value = get_return_value(\n\u001b[0;32m   1322\u001b[0m             answer, self.gateway_client, self.target_id, self.name)\n",
      "\u001b[1;32mC:\\spark\\spark-3.3.1-bin-hadoop3\\python\\lib\\py4j-0.10.9.5-src.zip\\py4j\\java_gateway.py\u001b[0m in \u001b[0;36msend_command\u001b[1;34m(self, command, retry, binary)\u001b[0m\n\u001b[0;32m   1051\u001b[0m             \u001b[1;32mif\u001b[0m \u001b[0mself\u001b[0m\u001b[1;33m.\u001b[0m\u001b[0m_should_retry\u001b[0m\u001b[1;33m(\u001b[0m\u001b[0mretry\u001b[0m\u001b[1;33m,\u001b[0m \u001b[0mconnection\u001b[0m\u001b[1;33m,\u001b[0m \u001b[0mpne\u001b[0m\u001b[1;33m)\u001b[0m\u001b[1;33m:\u001b[0m\u001b[1;33m\u001b[0m\u001b[1;33m\u001b[0m\u001b[0m\n\u001b[0;32m   1052\u001b[0m                 \u001b[0mlogging\u001b[0m\u001b[1;33m.\u001b[0m\u001b[0minfo\u001b[0m\u001b[1;33m(\u001b[0m\u001b[1;34m\"Exception while sending command.\"\u001b[0m\u001b[1;33m,\u001b[0m \u001b[0mexc_info\u001b[0m\u001b[1;33m=\u001b[0m\u001b[1;32mTrue\u001b[0m\u001b[1;33m)\u001b[0m\u001b[1;33m\u001b[0m\u001b[1;33m\u001b[0m\u001b[0m\n\u001b[1;32m-> 1053\u001b[1;33m                 \u001b[0mresponse\u001b[0m \u001b[1;33m=\u001b[0m \u001b[0mself\u001b[0m\u001b[1;33m.\u001b[0m\u001b[0msend_command\u001b[0m\u001b[1;33m(\u001b[0m\u001b[0mcommand\u001b[0m\u001b[1;33m,\u001b[0m \u001b[0mbinary\u001b[0m\u001b[1;33m=\u001b[0m\u001b[0mbinary\u001b[0m\u001b[1;33m)\u001b[0m\u001b[1;33m\u001b[0m\u001b[1;33m\u001b[0m\u001b[0m\n\u001b[0m\u001b[0;32m   1054\u001b[0m             \u001b[1;32melse\u001b[0m\u001b[1;33m:\u001b[0m\u001b[1;33m\u001b[0m\u001b[1;33m\u001b[0m\u001b[0m\n\u001b[0;32m   1055\u001b[0m                 logging.exception(\n",
      "\u001b[1;32mC:\\spark\\spark-3.3.1-bin-hadoop3\\python\\lib\\py4j-0.10.9.5-src.zip\\py4j\\java_gateway.py\u001b[0m in \u001b[0;36msend_command\u001b[1;34m(self, command, retry, binary)\u001b[0m\n\u001b[0;32m   1034\u001b[0m          \u001b[1;32mif\u001b[0m\u001b[0;31m \u001b[0m\u001b[0;31m`\u001b[0m\u001b[0mbinary\u001b[0m\u001b[0;31m`\u001b[0m \u001b[1;32mis\u001b[0m\u001b[0;31m \u001b[0m\u001b[0;31m`\u001b[0m\u001b[1;32mTrue\u001b[0m\u001b[0;31m`\u001b[0m\u001b[1;33m.\u001b[0m\u001b[1;33m\u001b[0m\u001b[1;33m\u001b[0m\u001b[0m\n\u001b[0;32m   1035\u001b[0m         \"\"\"\n\u001b[1;32m-> 1036\u001b[1;33m         \u001b[0mconnection\u001b[0m \u001b[1;33m=\u001b[0m \u001b[0mself\u001b[0m\u001b[1;33m.\u001b[0m\u001b[0m_get_connection\u001b[0m\u001b[1;33m(\u001b[0m\u001b[1;33m)\u001b[0m\u001b[1;33m\u001b[0m\u001b[1;33m\u001b[0m\u001b[0m\n\u001b[0m\u001b[0;32m   1037\u001b[0m         \u001b[1;32mtry\u001b[0m\u001b[1;33m:\u001b[0m\u001b[1;33m\u001b[0m\u001b[1;33m\u001b[0m\u001b[0m\n\u001b[0;32m   1038\u001b[0m             \u001b[0mresponse\u001b[0m \u001b[1;33m=\u001b[0m \u001b[0mconnection\u001b[0m\u001b[1;33m.\u001b[0m\u001b[0msend_command\u001b[0m\u001b[1;33m(\u001b[0m\u001b[0mcommand\u001b[0m\u001b[1;33m)\u001b[0m\u001b[1;33m\u001b[0m\u001b[1;33m\u001b[0m\u001b[0m\n",
      "\u001b[1;32mC:\\spark\\spark-3.3.1-bin-hadoop3\\python\\lib\\py4j-0.10.9.5-src.zip\\py4j\\clientserver.py\u001b[0m in \u001b[0;36m_get_connection\u001b[1;34m(self)\u001b[0m\n\u001b[0;32m    282\u001b[0m \u001b[1;33m\u001b[0m\u001b[0m\n\u001b[0;32m    283\u001b[0m         \u001b[1;32mif\u001b[0m \u001b[0mconnection\u001b[0m \u001b[1;32mis\u001b[0m \u001b[1;32mNone\u001b[0m \u001b[1;32mor\u001b[0m \u001b[0mconnection\u001b[0m\u001b[1;33m.\u001b[0m\u001b[0msocket\u001b[0m \u001b[1;32mis\u001b[0m \u001b[1;32mNone\u001b[0m\u001b[1;33m:\u001b[0m\u001b[1;33m\u001b[0m\u001b[1;33m\u001b[0m\u001b[0m\n\u001b[1;32m--> 284\u001b[1;33m             \u001b[0mconnection\u001b[0m \u001b[1;33m=\u001b[0m \u001b[0mself\u001b[0m\u001b[1;33m.\u001b[0m\u001b[0m_create_new_connection\u001b[0m\u001b[1;33m(\u001b[0m\u001b[1;33m)\u001b[0m\u001b[1;33m\u001b[0m\u001b[1;33m\u001b[0m\u001b[0m\n\u001b[0m\u001b[0;32m    285\u001b[0m         \u001b[1;32mreturn\u001b[0m \u001b[0mconnection\u001b[0m\u001b[1;33m\u001b[0m\u001b[1;33m\u001b[0m\u001b[0m\n\u001b[0;32m    286\u001b[0m \u001b[1;33m\u001b[0m\u001b[0m\n",
      "\u001b[1;32mC:\\spark\\spark-3.3.1-bin-hadoop3\\python\\lib\\py4j-0.10.9.5-src.zip\\py4j\\clientserver.py\u001b[0m in \u001b[0;36m_create_new_connection\u001b[1;34m(self)\u001b[0m\n\u001b[0;32m    289\u001b[0m             \u001b[0mself\u001b[0m\u001b[1;33m.\u001b[0m\u001b[0mjava_parameters\u001b[0m\u001b[1;33m,\u001b[0m \u001b[0mself\u001b[0m\u001b[1;33m.\u001b[0m\u001b[0mpython_parameters\u001b[0m\u001b[1;33m,\u001b[0m\u001b[1;33m\u001b[0m\u001b[1;33m\u001b[0m\u001b[0m\n\u001b[0;32m    290\u001b[0m             self.gateway_property, self)\n\u001b[1;32m--> 291\u001b[1;33m         \u001b[0mconnection\u001b[0m\u001b[1;33m.\u001b[0m\u001b[0mconnect_to_java_server\u001b[0m\u001b[1;33m(\u001b[0m\u001b[1;33m)\u001b[0m\u001b[1;33m\u001b[0m\u001b[1;33m\u001b[0m\u001b[0m\n\u001b[0m\u001b[0;32m    292\u001b[0m         \u001b[0mself\u001b[0m\u001b[1;33m.\u001b[0m\u001b[0mset_thread_connection\u001b[0m\u001b[1;33m(\u001b[0m\u001b[0mconnection\u001b[0m\u001b[1;33m)\u001b[0m\u001b[1;33m\u001b[0m\u001b[1;33m\u001b[0m\u001b[0m\n\u001b[0;32m    293\u001b[0m         \u001b[1;32mreturn\u001b[0m \u001b[0mconnection\u001b[0m\u001b[1;33m\u001b[0m\u001b[1;33m\u001b[0m\u001b[0m\n",
      "\u001b[1;32mC:\\spark\\spark-3.3.1-bin-hadoop3\\python\\lib\\py4j-0.10.9.5-src.zip\\py4j\\clientserver.py\u001b[0m in \u001b[0;36mconnect_to_java_server\u001b[1;34m(self)\u001b[0m\n\u001b[0;32m    436\u001b[0m                 self.socket = self.ssl_context.wrap_socket(\n\u001b[0;32m    437\u001b[0m                     self.socket, server_hostname=self.java_address)\n\u001b[1;32m--> 438\u001b[1;33m             \u001b[0mself\u001b[0m\u001b[1;33m.\u001b[0m\u001b[0msocket\u001b[0m\u001b[1;33m.\u001b[0m\u001b[0mconnect\u001b[0m\u001b[1;33m(\u001b[0m\u001b[1;33m(\u001b[0m\u001b[0mself\u001b[0m\u001b[1;33m.\u001b[0m\u001b[0mjava_address\u001b[0m\u001b[1;33m,\u001b[0m \u001b[0mself\u001b[0m\u001b[1;33m.\u001b[0m\u001b[0mjava_port\u001b[0m\u001b[1;33m)\u001b[0m\u001b[1;33m)\u001b[0m\u001b[1;33m\u001b[0m\u001b[1;33m\u001b[0m\u001b[0m\n\u001b[0m\u001b[0;32m    439\u001b[0m             \u001b[0mself\u001b[0m\u001b[1;33m.\u001b[0m\u001b[0mstream\u001b[0m \u001b[1;33m=\u001b[0m \u001b[0mself\u001b[0m\u001b[1;33m.\u001b[0m\u001b[0msocket\u001b[0m\u001b[1;33m.\u001b[0m\u001b[0mmakefile\u001b[0m\u001b[1;33m(\u001b[0m\u001b[1;34m\"rb\"\u001b[0m\u001b[1;33m)\u001b[0m\u001b[1;33m\u001b[0m\u001b[1;33m\u001b[0m\u001b[0m\n\u001b[0;32m    440\u001b[0m             \u001b[0mself\u001b[0m\u001b[1;33m.\u001b[0m\u001b[0mis_connected\u001b[0m \u001b[1;33m=\u001b[0m \u001b[1;32mTrue\u001b[0m\u001b[1;33m\u001b[0m\u001b[1;33m\u001b[0m\u001b[0m\n",
      "\u001b[1;31mConnectionRefusedError\u001b[0m: [WinError 10061] 대상 컴퓨터에서 연결을 거부했으므로 연결하지 못했습니다"
     ]
    }
   ],
   "source": [
    "main = spark.read.csv(\"C://Users//iam_o//BDP-Project//gas_data//main.csv\", header=\"true\", inferSchema=\"true\", encoding=\"cp949\")\n",
    "oil = spark.read.csv(\"C://Users//iam_o//BDP-Project//gas_data//oil.csv\", header=\"true\", inferSchema=\"true\", encoding=\"cp949\")\n",
    "electricity = spark.read.csv(\"C://Users//iam_o//BDP-Project//gas_data//electricity.csv\", header=\"true\", inferSchema=\"true\",encoding=\"cp949\")\n",
    "import_index = spark.read.csv(\"C://Users//iam_o//BDP-Project//gas_data//import_index.csv\", header=\"true\", inferSchema=\"true\",encoding=\"cp949\")\n",
    "lng = spark.read.csv(\"C://Users//iam_o//BDP-Project//gas_data//lng.csv\", header=\"true\", inferSchema=\"true\",encoding=\"cp949\")\n",
    "introduction = spark.read.csv(\"C://Users//iam_o//BDP-Project//gas_data//introduction.csv\", header=\"true\", inferSchema=\"true\",encoding=\"utf-8\")\n",
    "temp2013 = spark.read.csv(\"C://Users//iam_o//BDP-Project//gas_data//temp2013.csv\", header=\"true\", inferSchema=\"true\",encoding=\"cp949\")\n",
    "temp2014 = spark.read.csv(\"C://Users//iam_o//BDP-Project//gas_data//temp2014.csv\", header=\"true\", inferSchema=\"true\",encoding=\"cp949\")\n",
    "temp2015 = spark.read.csv(\"C://Users//iam_o//BDP-Project//gas_data//temp2015.csv\", header=\"true\", inferSchema=\"true\",encoding=\"cp949\")\n",
    "temp2016 = spark.read.csv(\"C://Users//iam_o//BDP-Project//gas_data//temp2016.csv\", header=\"true\", inferSchema=\"true\",encoding=\"cp949\")\n",
    "temp2017 = spark.read.csv(\"C://Users//iam_o//BDP-Project//gas_data//temp2017.csv\", header=\"true\", inferSchema=\"true\",encoding=\"cp949\")\n",
    "temp2018 = spark.read.csv(\"C://Users//iam_o//BDP-Project//gas_data//temp2018.csv\", header=\"true\", inferSchema=\"true\",encoding=\"cp949\")"
   ]
  },
  {
   "cell_type": "code",
   "execution_count": null,
   "id": "0f5032ce-0265-4f47-95fb-82c7a3bdfde2",
   "metadata": {},
   "outputs": [],
   "source": [
    "main.select(\"구분\").distinct().show()"
   ]
  },
  {
   "cell_type": "code",
   "execution_count": null,
   "id": "b33cfaa6-7ec7-4d4f-aff1-7b09a457f573",
   "metadata": {},
   "outputs": [],
   "source": [
    "new = {}\n",
    "for i, row_iterator in enumerate(main.select(\"구분\").distinct().collect()):\n",
    "    new[i] = row_iterator[\"구분\"]"
   ]
  },
  {
   "cell_type": "code",
   "execution_count": null,
   "id": "f229c13c-e879-4160-8d95-7ac3243e4f61",
   "metadata": {},
   "outputs": [],
   "source": []
  },
  {
   "cell_type": "code",
   "execution_count": null,
   "id": "030e1997-e500-4e26-876c-663f5fc758cf",
   "metadata": {},
   "outputs": [],
   "source": [
    "import pandas as pd\n",
    "main = pd.read_csv(\"C://Users//iam_o//BDP-Project//gas_data//main.csv\", encoding=\"cp949\")\n",
    "oil = pd.read_csv(\"C://Users//iam_o//BDP-Project//gas_data//oil.csv\", encoding=\"cp949\")\n",
    "electricity = pd.read_csv(\"C://Users//iam_o//BDP-Project//gas_data//electricity.csv\", encoding=\"cp949\")\n",
    "import_index = pd.read_csv(\"C://Users//iam_o//BDP-Project//gas_data//import_index.csv\", encoding=\"cp949\")\n",
    "lng = pd.read_csv(\"C://Users//iam_o//BDP-Project//gas_data//lng.csv\", encoding=\"cp949\")\n",
    "introduction = pd.read_csv(\"C://Users//iam_o//BDP-Project//gas_data//introduction.csv\", encoding=\"utf-8\")\n",
    "temp2013 = pd.read_csv(\"C://Users//iam_o//BDP-Project//gas_data//temp2013.csv\", encoding=\"cp949\")\n",
    "temp2014 = pd.read_csv(\"C://Users//iam_o//BDP-Project//gas_data//temp2014.csv\", encoding=\"cp949\")\n",
    "temp2015 = pd.read_csv(\"C://Users//iam_o//BDP-Project//gas_data//temp2015.csv\", encoding=\"cp949\")\n",
    "temp2016 = pd.read_csv(\"C://Users//iam_o//BDP-Project//gas_data//temp2016.csv\", encoding=\"cp949\")\n",
    "temp2017 = pd.read_csv(\"C://Users//iam_o//BDP-Project//gas_data//temp2017.csv\", encoding=\"cp949\")\n",
    "temp2018 = pd.read_csv(\"C://Users//iam_o//BDP-Project//gas_data//temp2018.csv\", encoding=\"cp949\")"
   ]
  },
  {
   "cell_type": "code",
   "execution_count": null,
   "id": "96f1215a-51e7-4fc8-8e48-44f262e82883",
   "metadata": {},
   "outputs": [],
   "source": [
    "main['구분'].unique()"
   ]
  },
  {
   "cell_type": "code",
   "execution_count": null,
   "id": "43a2e764-b46c-4199-8b27-e4735fe92928",
   "metadata": {},
   "outputs": [],
   "source": [
    "d_map={}\n",
    "for i, d in enumerate(main['구분'].unique()):\n",
    "  d_map[d] = i"
   ]
  },
  {
   "cell_type": "code",
   "execution_count": null,
   "id": "94c1a232-d387-49c6-a49f-77172617d66d",
   "metadata": {},
   "outputs": [],
   "source": [
    "main['구분'] = main['구분'].map(d_map)\n",
    "main['구분']"
   ]
  },
  {
   "cell_type": "code",
   "execution_count": null,
   "id": "55b59992-317d-4fd2-a6ae-42485322e67f",
   "metadata": {},
   "outputs": [],
   "source": [
    "main['연월일'] = pd.to_datetime(main['연월일'])\n",
    "main['year'] = main['연월일'].dt.year\n",
    "main['month'] = main['연월일'].dt.month\n",
    "main['day'] = main['연월일'].dt.day"
   ]
  },
  {
   "cell_type": "code",
   "execution_count": 555,
   "id": "da6353ad-0d25-42ca-a70a-c95474f52aad",
   "metadata": {},
   "outputs": [],
   "source": [
    "def outliers_processing(df):\n",
    "  q1, q3 = np.percentile(df, [25, 75])\n",
    "  iqr = q3-q1\n",
    "  lower_bound = q1-(iqr*1.5)\n",
    "  upper_bound = q3 + (iqr*1.5)\n",
    "  return lower_bound, upper_bound"
   ]
  },
  {
   "cell_type": "code",
   "execution_count": 556,
   "id": "4c3c1866-fad0-44ce-a79c-f7317e0113a7",
   "metadata": {},
   "outputs": [
    {
     "data": {
      "text/plain": [
       "{0:               연월일  시간  구분       공급량  year  month  day\n",
       " 0      2013-01-01   1   0  2497.129  2013      1    1\n",
       " 1      2013-01-01   2   0  2363.265  2013      1    1\n",
       " 2      2013-01-01   3   0  2258.505  2013      1    1\n",
       " 3      2013-01-01   4   0  2243.969  2013      1    1\n",
       " 4      2013-01-01   5   0  2344.105  2013      1    1\n",
       " ...           ...  ..  ..       ...   ...    ...  ...\n",
       " 315523 2018-12-31  20   0  3040.868  2018     12   31\n",
       " 315524 2018-12-31  21   0  2973.577  2018     12   31\n",
       " 315525 2018-12-31  22   0  2840.272  2018     12   31\n",
       " 315526 2018-12-31  23   0  2692.385  2018     12   31\n",
       " 315527 2018-12-31  24   0  2583.340  2018     12   31\n",
       " \n",
       " [52584 rows x 7 columns],\n",
       " 1:               연월일  시간  구분       공급량  year  month  day\n",
       " 8760   2013-01-01   1   1  2169.093  2013      1    1\n",
       " 8761   2013-01-01   2   1  2051.733  2013      1    1\n",
       " 8762   2013-01-01   3   1  1923.253  2013      1    1\n",
       " 8763   2013-01-01   4   1  1927.253  2013      1    1\n",
       " 8764   2013-01-01   5   1  2047.333  2013      1    1\n",
       " ...           ...  ..  ..       ...   ...    ...  ...\n",
       " 324283 2018-12-31  20   1  2668.688  2018     12   31\n",
       " 324284 2018-12-31  21   1  2606.681  2018     12   31\n",
       " 324285 2018-12-31  22   1  2540.169  2018     12   31\n",
       " 324286 2018-12-31  23   1  2407.945  2018     12   31\n",
       " 324287 2018-12-31  24   1  2290.154  2018     12   31\n",
       " \n",
       " [52584 rows x 7 columns],\n",
       " 2:               연월일  시간  구분      공급량  year  month  day\n",
       " 17520  2013-01-01   1   2  226.178  2013      1    1\n",
       " 17521  2013-01-01   2   2  215.778  2013      1    1\n",
       " 17522  2013-01-01   3   2  202.178  2013      1    1\n",
       " 17523  2013-01-01   4   2  198.978  2013      1    1\n",
       " 17524  2013-01-01   5   2  200.578  2013      1    1\n",
       " ...           ...  ..  ..      ...   ...    ...  ...\n",
       " 333043 2018-12-31  20   2  265.980  2018     12   31\n",
       " 333044 2018-12-31  21   2  262.239  2018     12   31\n",
       " 333045 2018-12-31  22   2  256.000  2018     12   31\n",
       " 333046 2018-12-31  23   2  246.020  2018     12   31\n",
       " 333047 2018-12-31  24   2  237.911  2018     12   31\n",
       " \n",
       " [52584 rows x 7 columns],\n",
       " 3:               연월일  시간  구분       공급량  year  month  day\n",
       " 26280  2013-01-01   1   3  1434.516  2013      1    1\n",
       " 26281  2013-01-01   2   3  1345.636  2013      1    1\n",
       " 26282  2013-01-01   3   3  1270.756  2013      1    1\n",
       " 26283  2013-01-01   4   3  1322.036  2013      1    1\n",
       " 26284  2013-01-01   5   3  1421.956  2013      1    1\n",
       " ...           ...  ..  ..       ...   ...    ...  ...\n",
       " 341803 2018-12-31  20   3  1835.411  2018     12   31\n",
       " 341804 2018-12-31  21   3  1767.964  2018     12   31\n",
       " 341805 2018-12-31  22   3  1720.595  2018     12   31\n",
       " 341806 2018-12-31  23   3  1624.138  2018     12   31\n",
       " 341807 2018-12-31  24   3  1422.478  2018     12   31\n",
       " \n",
       " [52584 rows x 7 columns],\n",
       " 4:               연월일  시간  구분       공급량  year  month  day\n",
       " 35040  2013-01-01   1   4  3272.837  2013      1    1\n",
       " 35041  2013-01-01   2   4  3057.125  2013      1    1\n",
       " 35042  2013-01-01   3   4  2907.765  2013      1    1\n",
       " 35043  2013-01-01   4   4  2930.789  2013      1    1\n",
       " 35044  2013-01-01   5   4  3067.805  2013      1    1\n",
       " ...           ...  ..  ..       ...   ...    ...  ...\n",
       " 350563 2018-12-31  20   4  4074.485  2018     12   31\n",
       " 350564 2018-12-31  21   4  4037.720  2018     12   31\n",
       " 350565 2018-12-31  22   4  3954.210  2018     12   31\n",
       " 350566 2018-12-31  23   4  3745.844  2018     12   31\n",
       " 350567 2018-12-31  24   4  3534.260  2018     12   31\n",
       " \n",
       " [52584 rows x 7 columns],\n",
       " 5:               연월일  시간  구분       공급량  year  month  day\n",
       " 43800  2013-01-01   1   5  3560.365  2013      1    1\n",
       " 43801  2013-01-01   2   5  3354.245  2013      1    1\n",
       " 43802  2013-01-01   3   5  3115.757  2013      1    1\n",
       " 43803  2013-01-01   4   5  3034.237  2013      1    1\n",
       " 43804  2013-01-01   5   5  3050.469  2013      1    1\n",
       " ...           ...  ..  ..       ...   ...    ...  ...\n",
       " 359323 2018-12-31  20   5  4657.562  2018     12   31\n",
       " 359324 2018-12-31  21   5  4486.845  2018     12   31\n",
       " 359325 2018-12-31  22   5  4354.915  2018     12   31\n",
       " 359326 2018-12-31  23   5  4204.484  2018     12   31\n",
       " 359327 2018-12-31  24   5  3982.757  2018     12   31\n",
       " \n",
       " [52584 rows x 7 columns],\n",
       " 6:               연월일  시간  구분      공급량  year  month  day\n",
       " 52560  2013-01-01   1   6  562.964  2013      1    1\n",
       " 52561  2013-01-01   2   6  531.228  2013      1    1\n",
       " 52562  2013-01-01   3   6  496.276  2013      1    1\n",
       " 52563  2013-01-01   4   6  489.396  2013      1    1\n",
       " 52564  2013-01-01   5   6  535.420  2013      1    1\n",
       " ...           ...  ..  ..      ...   ...    ...  ...\n",
       " 368083 2018-12-31  20   6  681.033  2018     12   31\n",
       " 368084 2018-12-31  21   6  669.961  2018     12   31\n",
       " 368085 2018-12-31  22   6  657.941  2018     12   31\n",
       " 368086 2018-12-31  23   6  610.953  2018     12   31\n",
       " 368087 2018-12-31  24   6  560.896  2018     12   31\n",
       " \n",
       " [52584 rows x 7 columns]}"
      ]
     },
     "execution_count": 556,
     "metadata": {},
     "output_type": "execute_result"
    }
   ],
   "source": [
    "main_by_sections = {}\n",
    "for i in range(7):\n",
    "  main_by_sections[i] = main[main['구분'] == i]\n",
    "main_by_sections"
   ]
  },
  {
   "cell_type": "code",
   "execution_count": 557,
   "id": "b67e8abf-3146-4e85-842b-eb0cbf1a127e",
   "metadata": {},
   "outputs": [],
   "source": [
    "import numpy as np\n",
    "lower = {}\n",
    "upper = {}\n",
    "for i in range(7):\n",
    "  lower[i] = {}\n",
    "  upper[i] = {}\n",
    "  for j in range(12):\n",
    "    lower[i][j], upper[i][j]= outliers_processing(main_by_sections[i][main_by_sections[i]['month'] == j+1]['공급량'])"
   ]
  },
  {
   "cell_type": "code",
   "execution_count": 558,
   "id": "d6cd29f6-4ab6-4a30-bad3-7d81e2e9ee8c",
   "metadata": {},
   "outputs": [],
   "source": [
    "main['lower'] =\"\"\n",
    "main['upper'] =\"\""
   ]
  },
  {
   "cell_type": "code",
   "execution_count": 559,
   "id": "9b65a731-041f-40d6-bcf8-43b3f44297bd",
   "metadata": {},
   "outputs": [],
   "source": [
    "for i in range(7):\n",
    "  for j in range(12):\n",
    "    main.loc[(main['구분']==i)&(main['month']==j+1),'lower' ] = lower[i][j]\n",
    "    main.loc[(main['구분']==i)&(main['month']==j+1),'upper' ] = upper[i][j]"
   ]
  },
  {
   "cell_type": "code",
   "execution_count": 560,
   "id": "8527cedc-5bef-4a3d-b8ff-817d42886a1d",
   "metadata": {},
   "outputs": [],
   "source": [
    "main['이상치처리_공급량'] =\"\"\n",
    "main['이상치처리_공급량'] = main.apply(lambda x: x['lower'] if x['공급량'] < x['lower'] else x['upper'] if x['공급량'] > x['upper'] else x['공급량'], axis = 1)"
   ]
  },
  {
   "cell_type": "code",
   "execution_count": 561,
   "id": "d20a0807-42c2-40d4-982f-f56ca2c39714",
   "metadata": {},
   "outputs": [
    {
     "data": {
      "text/html": [
       "<div>\n",
       "<style scoped>\n",
       "    .dataframe tbody tr th:only-of-type {\n",
       "        vertical-align: middle;\n",
       "    }\n",
       "\n",
       "    .dataframe tbody tr th {\n",
       "        vertical-align: top;\n",
       "    }\n",
       "\n",
       "    .dataframe thead th {\n",
       "        text-align: right;\n",
       "    }\n",
       "</style>\n",
       "<table border=\"1\" class=\"dataframe\">\n",
       "  <thead>\n",
       "    <tr style=\"text-align: right;\">\n",
       "      <th></th>\n",
       "      <th>연월일</th>\n",
       "      <th>시간</th>\n",
       "      <th>구분</th>\n",
       "      <th>공급량</th>\n",
       "      <th>year</th>\n",
       "      <th>month</th>\n",
       "      <th>day</th>\n",
       "    </tr>\n",
       "  </thead>\n",
       "  <tbody>\n",
       "    <tr>\n",
       "      <th>0</th>\n",
       "      <td>2013-01-01</td>\n",
       "      <td>1</td>\n",
       "      <td>0</td>\n",
       "      <td>2497.129</td>\n",
       "      <td>2013</td>\n",
       "      <td>1</td>\n",
       "      <td>1</td>\n",
       "    </tr>\n",
       "    <tr>\n",
       "      <th>1</th>\n",
       "      <td>2013-01-01</td>\n",
       "      <td>2</td>\n",
       "      <td>0</td>\n",
       "      <td>2363.265</td>\n",
       "      <td>2013</td>\n",
       "      <td>1</td>\n",
       "      <td>1</td>\n",
       "    </tr>\n",
       "    <tr>\n",
       "      <th>2</th>\n",
       "      <td>2013-01-01</td>\n",
       "      <td>3</td>\n",
       "      <td>0</td>\n",
       "      <td>2258.505</td>\n",
       "      <td>2013</td>\n",
       "      <td>1</td>\n",
       "      <td>1</td>\n",
       "    </tr>\n",
       "    <tr>\n",
       "      <th>3</th>\n",
       "      <td>2013-01-01</td>\n",
       "      <td>4</td>\n",
       "      <td>0</td>\n",
       "      <td>2243.969</td>\n",
       "      <td>2013</td>\n",
       "      <td>1</td>\n",
       "      <td>1</td>\n",
       "    </tr>\n",
       "    <tr>\n",
       "      <th>4</th>\n",
       "      <td>2013-01-01</td>\n",
       "      <td>5</td>\n",
       "      <td>0</td>\n",
       "      <td>2344.105</td>\n",
       "      <td>2013</td>\n",
       "      <td>1</td>\n",
       "      <td>1</td>\n",
       "    </tr>\n",
       "    <tr>\n",
       "      <th>...</th>\n",
       "      <td>...</td>\n",
       "      <td>...</td>\n",
       "      <td>...</td>\n",
       "      <td>...</td>\n",
       "      <td>...</td>\n",
       "      <td>...</td>\n",
       "      <td>...</td>\n",
       "    </tr>\n",
       "    <tr>\n",
       "      <th>368083</th>\n",
       "      <td>2018-12-31</td>\n",
       "      <td>20</td>\n",
       "      <td>6</td>\n",
       "      <td>681.033</td>\n",
       "      <td>2018</td>\n",
       "      <td>12</td>\n",
       "      <td>31</td>\n",
       "    </tr>\n",
       "    <tr>\n",
       "      <th>368084</th>\n",
       "      <td>2018-12-31</td>\n",
       "      <td>21</td>\n",
       "      <td>6</td>\n",
       "      <td>669.961</td>\n",
       "      <td>2018</td>\n",
       "      <td>12</td>\n",
       "      <td>31</td>\n",
       "    </tr>\n",
       "    <tr>\n",
       "      <th>368085</th>\n",
       "      <td>2018-12-31</td>\n",
       "      <td>22</td>\n",
       "      <td>6</td>\n",
       "      <td>657.941</td>\n",
       "      <td>2018</td>\n",
       "      <td>12</td>\n",
       "      <td>31</td>\n",
       "    </tr>\n",
       "    <tr>\n",
       "      <th>368086</th>\n",
       "      <td>2018-12-31</td>\n",
       "      <td>23</td>\n",
       "      <td>6</td>\n",
       "      <td>610.953</td>\n",
       "      <td>2018</td>\n",
       "      <td>12</td>\n",
       "      <td>31</td>\n",
       "    </tr>\n",
       "    <tr>\n",
       "      <th>368087</th>\n",
       "      <td>2018-12-31</td>\n",
       "      <td>24</td>\n",
       "      <td>6</td>\n",
       "      <td>560.896</td>\n",
       "      <td>2018</td>\n",
       "      <td>12</td>\n",
       "      <td>31</td>\n",
       "    </tr>\n",
       "  </tbody>\n",
       "</table>\n",
       "<p>368088 rows × 7 columns</p>\n",
       "</div>"
      ],
      "text/plain": [
       "              연월일  시간  구분       공급량  year  month  day\n",
       "0      2013-01-01   1   0  2497.129  2013      1    1\n",
       "1      2013-01-01   2   0  2363.265  2013      1    1\n",
       "2      2013-01-01   3   0  2258.505  2013      1    1\n",
       "3      2013-01-01   4   0  2243.969  2013      1    1\n",
       "4      2013-01-01   5   0  2344.105  2013      1    1\n",
       "...           ...  ..  ..       ...   ...    ...  ...\n",
       "368083 2018-12-31  20   6   681.033  2018     12   31\n",
       "368084 2018-12-31  21   6   669.961  2018     12   31\n",
       "368085 2018-12-31  22   6   657.941  2018     12   31\n",
       "368086 2018-12-31  23   6   610.953  2018     12   31\n",
       "368087 2018-12-31  24   6   560.896  2018     12   31\n",
       "\n",
       "[368088 rows x 7 columns]"
      ]
     },
     "execution_count": 561,
     "metadata": {},
     "output_type": "execute_result"
    }
   ],
   "source": [
    "main['공급량'] = main['이상치처리_공급량']\n",
    "main = main.drop(['lower', 'upper', '이상치처리_공급량'], axis = 1)\n",
    "main"
   ]
  },
  {
   "cell_type": "code",
   "execution_count": 562,
   "id": "5fb79cfa-1376-4b42-9f87-5d46299f5a9d",
   "metadata": {},
   "outputs": [
    {
     "ename": "ConnectionRefusedError",
     "evalue": "[WinError 10061] 대상 컴퓨터에서 연결을 거부했으므로 연결하지 못했습니다",
     "output_type": "error",
     "traceback": [
      "\u001b[1;31m---------------------------------------------------------------------------\u001b[0m",
      "\u001b[1;31mConnectionRefusedError\u001b[0m                    Traceback (most recent call last)",
      "\u001b[1;32m~\\AppData\\Local\\Temp\\ipykernel_10452\\594011255.py\u001b[0m in \u001b[0;36m<module>\u001b[1;34m\u001b[0m\n\u001b[0;32m      1\u001b[0m \u001b[1;31m# # Electricity data preprocessing\u001b[0m\u001b[1;33m\u001b[0m\u001b[1;33m\u001b[0m\u001b[0m\n\u001b[1;32m----> 2\u001b[1;33m \u001b[0melectricity\u001b[0m\u001b[1;33m[\u001b[0m\u001b[1;34m'연월'\u001b[0m\u001b[1;33m]\u001b[0m \u001b[1;33m=\u001b[0m \u001b[0mpd\u001b[0m\u001b[1;33m.\u001b[0m\u001b[0mto_datetime\u001b[0m\u001b[1;33m(\u001b[0m\u001b[0melectricity\u001b[0m\u001b[1;33m[\u001b[0m\u001b[1;34m'연월'\u001b[0m\u001b[1;33m]\u001b[0m\u001b[1;33m)\u001b[0m\u001b[1;33m\u001b[0m\u001b[1;33m\u001b[0m\u001b[0m\n\u001b[0m\u001b[0;32m      3\u001b[0m \u001b[0melectricity\u001b[0m\u001b[1;33m[\u001b[0m\u001b[1;34m'year'\u001b[0m\u001b[1;33m]\u001b[0m \u001b[1;33m=\u001b[0m \u001b[0melectricity\u001b[0m\u001b[1;33m[\u001b[0m\u001b[1;34m'연월'\u001b[0m\u001b[1;33m]\u001b[0m\u001b[1;33m.\u001b[0m\u001b[0mdt\u001b[0m\u001b[1;33m.\u001b[0m\u001b[0myear\u001b[0m\u001b[1;33m\u001b[0m\u001b[1;33m\u001b[0m\u001b[0m\n\u001b[0;32m      4\u001b[0m \u001b[0melectricity\u001b[0m\u001b[1;33m[\u001b[0m\u001b[1;34m'month'\u001b[0m\u001b[1;33m]\u001b[0m \u001b[1;33m=\u001b[0m \u001b[0melectricity\u001b[0m\u001b[1;33m[\u001b[0m\u001b[1;34m'연월'\u001b[0m\u001b[1;33m]\u001b[0m\u001b[1;33m.\u001b[0m\u001b[0mdt\u001b[0m\u001b[1;33m.\u001b[0m\u001b[0mmonth\u001b[0m\u001b[1;33m\u001b[0m\u001b[1;33m\u001b[0m\u001b[0m\n\u001b[0;32m      5\u001b[0m \u001b[1;33m\u001b[0m\u001b[0m\n",
      "\u001b[1;32mC:\\spark\\spark-3.3.1-bin-hadoop3\\python\\pyspark\\sql\\dataframe.py\u001b[0m in \u001b[0;36m__getitem__\u001b[1;34m(self, item)\u001b[0m\n\u001b[0;32m   1963\u001b[0m         \"\"\"\n\u001b[0;32m   1964\u001b[0m         \u001b[1;32mif\u001b[0m \u001b[0misinstance\u001b[0m\u001b[1;33m(\u001b[0m\u001b[0mitem\u001b[0m\u001b[1;33m,\u001b[0m \u001b[0mstr\u001b[0m\u001b[1;33m)\u001b[0m\u001b[1;33m:\u001b[0m\u001b[1;33m\u001b[0m\u001b[1;33m\u001b[0m\u001b[0m\n\u001b[1;32m-> 1965\u001b[1;33m             \u001b[0mjc\u001b[0m \u001b[1;33m=\u001b[0m \u001b[0mself\u001b[0m\u001b[1;33m.\u001b[0m\u001b[0m_jdf\u001b[0m\u001b[1;33m.\u001b[0m\u001b[0mapply\u001b[0m\u001b[1;33m(\u001b[0m\u001b[0mitem\u001b[0m\u001b[1;33m)\u001b[0m\u001b[1;33m\u001b[0m\u001b[1;33m\u001b[0m\u001b[0m\n\u001b[0m\u001b[0;32m   1966\u001b[0m             \u001b[1;32mreturn\u001b[0m \u001b[0mColumn\u001b[0m\u001b[1;33m(\u001b[0m\u001b[0mjc\u001b[0m\u001b[1;33m)\u001b[0m\u001b[1;33m\u001b[0m\u001b[1;33m\u001b[0m\u001b[0m\n\u001b[0;32m   1967\u001b[0m         \u001b[1;32melif\u001b[0m \u001b[0misinstance\u001b[0m\u001b[1;33m(\u001b[0m\u001b[0mitem\u001b[0m\u001b[1;33m,\u001b[0m \u001b[0mColumn\u001b[0m\u001b[1;33m)\u001b[0m\u001b[1;33m:\u001b[0m\u001b[1;33m\u001b[0m\u001b[1;33m\u001b[0m\u001b[0m\n",
      "\u001b[1;32mC:\\spark\\spark-3.3.1-bin-hadoop3\\python\\lib\\py4j-0.10.9.5-src.zip\\py4j\\java_gateway.py\u001b[0m in \u001b[0;36m__call__\u001b[1;34m(self, *args)\u001b[0m\n\u001b[0;32m   1318\u001b[0m             \u001b[0mproto\u001b[0m\u001b[1;33m.\u001b[0m\u001b[0mEND_COMMAND_PART\u001b[0m\u001b[1;33m\u001b[0m\u001b[1;33m\u001b[0m\u001b[0m\n\u001b[0;32m   1319\u001b[0m \u001b[1;33m\u001b[0m\u001b[0m\n\u001b[1;32m-> 1320\u001b[1;33m         \u001b[0manswer\u001b[0m \u001b[1;33m=\u001b[0m \u001b[0mself\u001b[0m\u001b[1;33m.\u001b[0m\u001b[0mgateway_client\u001b[0m\u001b[1;33m.\u001b[0m\u001b[0msend_command\u001b[0m\u001b[1;33m(\u001b[0m\u001b[0mcommand\u001b[0m\u001b[1;33m)\u001b[0m\u001b[1;33m\u001b[0m\u001b[1;33m\u001b[0m\u001b[0m\n\u001b[0m\u001b[0;32m   1321\u001b[0m         return_value = get_return_value(\n\u001b[0;32m   1322\u001b[0m             answer, self.gateway_client, self.target_id, self.name)\n",
      "\u001b[1;32mC:\\spark\\spark-3.3.1-bin-hadoop3\\python\\lib\\py4j-0.10.9.5-src.zip\\py4j\\java_gateway.py\u001b[0m in \u001b[0;36msend_command\u001b[1;34m(self, command, retry, binary)\u001b[0m\n\u001b[0;32m   1034\u001b[0m          \u001b[1;32mif\u001b[0m\u001b[0;31m \u001b[0m\u001b[0;31m`\u001b[0m\u001b[0mbinary\u001b[0m\u001b[0;31m`\u001b[0m \u001b[1;32mis\u001b[0m\u001b[0;31m \u001b[0m\u001b[0;31m`\u001b[0m\u001b[1;32mTrue\u001b[0m\u001b[0;31m`\u001b[0m\u001b[1;33m.\u001b[0m\u001b[1;33m\u001b[0m\u001b[1;33m\u001b[0m\u001b[0m\n\u001b[0;32m   1035\u001b[0m         \"\"\"\n\u001b[1;32m-> 1036\u001b[1;33m         \u001b[0mconnection\u001b[0m \u001b[1;33m=\u001b[0m \u001b[0mself\u001b[0m\u001b[1;33m.\u001b[0m\u001b[0m_get_connection\u001b[0m\u001b[1;33m(\u001b[0m\u001b[1;33m)\u001b[0m\u001b[1;33m\u001b[0m\u001b[1;33m\u001b[0m\u001b[0m\n\u001b[0m\u001b[0;32m   1037\u001b[0m         \u001b[1;32mtry\u001b[0m\u001b[1;33m:\u001b[0m\u001b[1;33m\u001b[0m\u001b[1;33m\u001b[0m\u001b[0m\n\u001b[0;32m   1038\u001b[0m             \u001b[0mresponse\u001b[0m \u001b[1;33m=\u001b[0m \u001b[0mconnection\u001b[0m\u001b[1;33m.\u001b[0m\u001b[0msend_command\u001b[0m\u001b[1;33m(\u001b[0m\u001b[0mcommand\u001b[0m\u001b[1;33m)\u001b[0m\u001b[1;33m\u001b[0m\u001b[1;33m\u001b[0m\u001b[0m\n",
      "\u001b[1;32mC:\\spark\\spark-3.3.1-bin-hadoop3\\python\\lib\\py4j-0.10.9.5-src.zip\\py4j\\clientserver.py\u001b[0m in \u001b[0;36m_get_connection\u001b[1;34m(self)\u001b[0m\n\u001b[0;32m    282\u001b[0m \u001b[1;33m\u001b[0m\u001b[0m\n\u001b[0;32m    283\u001b[0m         \u001b[1;32mif\u001b[0m \u001b[0mconnection\u001b[0m \u001b[1;32mis\u001b[0m \u001b[1;32mNone\u001b[0m \u001b[1;32mor\u001b[0m \u001b[0mconnection\u001b[0m\u001b[1;33m.\u001b[0m\u001b[0msocket\u001b[0m \u001b[1;32mis\u001b[0m \u001b[1;32mNone\u001b[0m\u001b[1;33m:\u001b[0m\u001b[1;33m\u001b[0m\u001b[1;33m\u001b[0m\u001b[0m\n\u001b[1;32m--> 284\u001b[1;33m             \u001b[0mconnection\u001b[0m \u001b[1;33m=\u001b[0m \u001b[0mself\u001b[0m\u001b[1;33m.\u001b[0m\u001b[0m_create_new_connection\u001b[0m\u001b[1;33m(\u001b[0m\u001b[1;33m)\u001b[0m\u001b[1;33m\u001b[0m\u001b[1;33m\u001b[0m\u001b[0m\n\u001b[0m\u001b[0;32m    285\u001b[0m         \u001b[1;32mreturn\u001b[0m \u001b[0mconnection\u001b[0m\u001b[1;33m\u001b[0m\u001b[1;33m\u001b[0m\u001b[0m\n\u001b[0;32m    286\u001b[0m \u001b[1;33m\u001b[0m\u001b[0m\n",
      "\u001b[1;32mC:\\spark\\spark-3.3.1-bin-hadoop3\\python\\lib\\py4j-0.10.9.5-src.zip\\py4j\\clientserver.py\u001b[0m in \u001b[0;36m_create_new_connection\u001b[1;34m(self)\u001b[0m\n\u001b[0;32m    289\u001b[0m             \u001b[0mself\u001b[0m\u001b[1;33m.\u001b[0m\u001b[0mjava_parameters\u001b[0m\u001b[1;33m,\u001b[0m \u001b[0mself\u001b[0m\u001b[1;33m.\u001b[0m\u001b[0mpython_parameters\u001b[0m\u001b[1;33m,\u001b[0m\u001b[1;33m\u001b[0m\u001b[1;33m\u001b[0m\u001b[0m\n\u001b[0;32m    290\u001b[0m             self.gateway_property, self)\n\u001b[1;32m--> 291\u001b[1;33m         \u001b[0mconnection\u001b[0m\u001b[1;33m.\u001b[0m\u001b[0mconnect_to_java_server\u001b[0m\u001b[1;33m(\u001b[0m\u001b[1;33m)\u001b[0m\u001b[1;33m\u001b[0m\u001b[1;33m\u001b[0m\u001b[0m\n\u001b[0m\u001b[0;32m    292\u001b[0m         \u001b[0mself\u001b[0m\u001b[1;33m.\u001b[0m\u001b[0mset_thread_connection\u001b[0m\u001b[1;33m(\u001b[0m\u001b[0mconnection\u001b[0m\u001b[1;33m)\u001b[0m\u001b[1;33m\u001b[0m\u001b[1;33m\u001b[0m\u001b[0m\n\u001b[0;32m    293\u001b[0m         \u001b[1;32mreturn\u001b[0m \u001b[0mconnection\u001b[0m\u001b[1;33m\u001b[0m\u001b[1;33m\u001b[0m\u001b[0m\n",
      "\u001b[1;32mC:\\spark\\spark-3.3.1-bin-hadoop3\\python\\lib\\py4j-0.10.9.5-src.zip\\py4j\\clientserver.py\u001b[0m in \u001b[0;36mconnect_to_java_server\u001b[1;34m(self)\u001b[0m\n\u001b[0;32m    436\u001b[0m                 self.socket = self.ssl_context.wrap_socket(\n\u001b[0;32m    437\u001b[0m                     self.socket, server_hostname=self.java_address)\n\u001b[1;32m--> 438\u001b[1;33m             \u001b[0mself\u001b[0m\u001b[1;33m.\u001b[0m\u001b[0msocket\u001b[0m\u001b[1;33m.\u001b[0m\u001b[0mconnect\u001b[0m\u001b[1;33m(\u001b[0m\u001b[1;33m(\u001b[0m\u001b[0mself\u001b[0m\u001b[1;33m.\u001b[0m\u001b[0mjava_address\u001b[0m\u001b[1;33m,\u001b[0m \u001b[0mself\u001b[0m\u001b[1;33m.\u001b[0m\u001b[0mjava_port\u001b[0m\u001b[1;33m)\u001b[0m\u001b[1;33m)\u001b[0m\u001b[1;33m\u001b[0m\u001b[1;33m\u001b[0m\u001b[0m\n\u001b[0m\u001b[0;32m    439\u001b[0m             \u001b[0mself\u001b[0m\u001b[1;33m.\u001b[0m\u001b[0mstream\u001b[0m \u001b[1;33m=\u001b[0m \u001b[0mself\u001b[0m\u001b[1;33m.\u001b[0m\u001b[0msocket\u001b[0m\u001b[1;33m.\u001b[0m\u001b[0mmakefile\u001b[0m\u001b[1;33m(\u001b[0m\u001b[1;34m\"rb\"\u001b[0m\u001b[1;33m)\u001b[0m\u001b[1;33m\u001b[0m\u001b[1;33m\u001b[0m\u001b[0m\n\u001b[0;32m    440\u001b[0m             \u001b[0mself\u001b[0m\u001b[1;33m.\u001b[0m\u001b[0mis_connected\u001b[0m \u001b[1;33m=\u001b[0m \u001b[1;32mTrue\u001b[0m\u001b[1;33m\u001b[0m\u001b[1;33m\u001b[0m\u001b[0m\n",
      "\u001b[1;31mConnectionRefusedError\u001b[0m: [WinError 10061] 대상 컴퓨터에서 연결을 거부했으므로 연결하지 못했습니다"
     ]
    }
   ],
   "source": [
    "# # Electricity data preprocessing\n",
    "electricity['연월'] = pd.to_datetime(electricity['연월'])\n",
    "electricity['year'] = electricity['연월'].dt.year\n",
    "electricity['month'] = electricity['연월'].dt.month\n",
    "\n",
    "electricity = electricity.drop(['연월'], axis = 1)\n",
    "electricity"
   ]
  },
  {
   "cell_type": "code",
   "execution_count": null,
   "id": "9f10c623-1b32-4a91-8c6e-37260cc6bdac",
   "metadata": {},
   "outputs": [],
   "source": [
    "electricity_join = pd.merge(main,electricity, how='inner',on=('year', 'month'))"
   ]
  },
  {
   "cell_type": "code",
   "execution_count": null,
   "id": "5423d627-ffa7-40ee-a290-5418e581a30c",
   "metadata": {},
   "outputs": [],
   "source": [
    "electricity = electricity_join"
   ]
  },
  {
   "cell_type": "code",
   "execution_count": null,
   "id": "f1848475-3d40-4cbb-9f60-14123304bfe3",
   "metadata": {},
   "outputs": [],
   "source": [
    "# # Oil data preprocessing"
   ]
  },
  {
   "cell_type": "code",
   "execution_count": null,
   "id": "08904365-3319-495d-bedf-a926c01ecda0",
   "metadata": {},
   "outputs": [],
   "source": [
    "oil['연월'] = pd.to_datetime(oil['연월'])\n",
    "oil['year'] = oil['연월'].dt.year\n",
    "oil['month'] = oil['연월'].dt.month"
   ]
  },
  {
   "cell_type": "code",
   "execution_count": null,
   "id": "0d7f2339-53d4-4acc-bc21-56d1feb3fd18",
   "metadata": {},
   "outputs": [],
   "source": [
    "oil = oil.drop(['연월'], axis = 1)\n",
    "oil"
   ]
  },
  {
   "cell_type": "code",
   "execution_count": null,
   "id": "3b2509ca-0111-47c9-a48a-1cae74aeebc8",
   "metadata": {},
   "outputs": [],
   "source": [
    "oil_join = pd.merge(main,oil, how='inner',on=('year', 'month'))\n",
    "oil = oil_join"
   ]
  },
  {
   "cell_type": "code",
   "execution_count": null,
   "id": "6396d56d-348d-41fe-abce-921394798965",
   "metadata": {},
   "outputs": [],
   "source": [
    "# # Temp data preprocessing\n",
    "temp_mean2013 = pd.pivot_table(temp2013, values=\"평균기온(℃)\", index=[\"날짜\"], aggfunc = np.mean).reset_index()\n",
    "temp_mean2014 = pd.pivot_table(temp2014, values=\"평균기온(℃)\", index=[\"날짜\"], aggfunc = np.mean).reset_index()\n",
    "temp_mean2015 = pd.pivot_table(temp2015, values=\"평균기온(℃)\", index=[\"날짜\"], aggfunc = np.mean).reset_index()\n",
    "temp_mean2016 = pd.pivot_table(temp2016, values=\"평균기온(℃)\", index=[\"날짜\"], aggfunc = np.mean).reset_index()\n",
    "temp_mean2017 = pd.pivot_table(temp2017, values=\"평균기온(℃)\", index=[\"날짜\"], aggfunc = np.mean).reset_index()\n",
    "temp_mean2018 = pd.pivot_table(temp2018, values=\"평균기온(℃)\", index=[\"날짜\"], aggfunc = np.mean).reset_index()"
   ]
  },
  {
   "cell_type": "code",
   "execution_count": null,
   "id": "7df38c81-e49e-4399-ba02-36eb71860671",
   "metadata": {},
   "outputs": [],
   "source": [
    "temp_mean2013['날짜'] = temp_mean2013['날짜'].str.slice(1,)\n",
    "temp_mean2014['날짜'] = temp_mean2014['날짜'].str.slice(1,)\n",
    "temp_mean2015['날짜'] = temp_mean2015['날짜'].str.slice(1,)\n",
    "temp_mean2016['날짜'] = temp_mean2016['날짜'].str.slice(1,)\n",
    "temp_mean2017['날짜'] = temp_mean2017['날짜'].str.slice(1,)\n",
    "temp_mean2018['날짜'] = temp_mean2018['날짜'].str.slice(1,)"
   ]
  },
  {
   "cell_type": "code",
   "execution_count": null,
   "id": "41897746-201d-472a-afbe-17f069e4164b",
   "metadata": {},
   "outputs": [],
   "source": [
    "def df_duplicate(df):\n",
    "  new_df = pd.DataFrame()\n",
    "  for _ in range(7):\n",
    "    new_df = pd.concat([new_df, df])\n",
    "  return new_df"
   ]
  },
  {
   "cell_type": "code",
   "execution_count": null,
   "id": "ec8d513b-f40a-49f3-a7ea-23120b130e43",
   "metadata": {},
   "outputs": [],
   "source": [
    "weather_2013_total = df_duplicate(temp_mean2013)\n",
    "weather_2014_total = df_duplicate(temp_mean2014)\n",
    "weather_2015_total = df_duplicate(temp_mean2015)\n",
    "weather_2016_total = df_duplicate(temp_mean2016)\n",
    "weather_2017_total = df_duplicate(temp_mean2017)\n",
    "weather_2018_total = df_duplicate(temp_mean2018)"
   ]
  },
  {
   "cell_type": "code",
   "execution_count": null,
   "id": "fa946c33-caf7-4d4d-b18a-f275bb2c2d1b",
   "metadata": {},
   "outputs": [],
   "source": [
    "weather_total = pd.concat([weather_2013_total, weather_2014_total, weather_2015_total, \n",
    "                           weather_2016_total, weather_2017_total, weather_2018_total])\n",
    "\n",
    "weather_total"
   ]
  },
  {
   "cell_type": "code",
   "execution_count": null,
   "id": "d3b4068e-ae6b-4b61-b7b3-f2a97d1549b1",
   "metadata": {},
   "outputs": [],
   "source": [
    "weather_total['날짜'] = pd.to_datetime(weather_total['날짜'])\n",
    "weather_total['year'] = weather_total['날짜'].dt.year \n",
    "weather_total['month'] = weather_total['날짜'].dt.month \n",
    "weather_total['day'] = weather_total['날짜'].dt.day"
   ]
  },
  {
   "cell_type": "code",
   "execution_count": null,
   "id": "434273d9-be76-407a-8154-5237a229bb99",
   "metadata": {},
   "outputs": [],
   "source": [
    "weather_total.drop(['날짜'], axis = 1)"
   ]
  },
  {
   "cell_type": "code",
   "execution_count": null,
   "id": "4ff13be2-0546-43af-836e-88d6cfe695b7",
   "metadata": {},
   "outputs": [],
   "source": [
    "# # Import data preprocessing\n",
    "import_index = import_index[import_index['계정코드별'].str.contains('가스', na = False)]"
   ]
  },
  {
   "cell_type": "code",
   "execution_count": null,
   "id": "539bbc27-2f55-44aa-abcb-47129bfecac1",
   "metadata": {},
   "outputs": [],
   "source": [
    "import_index.drop(['Unnamed: 76','단위','항목'], axis=1, inplace=True)"
   ]
  },
  {
   "cell_type": "code",
   "execution_count": null,
   "id": "6a910e7d-0346-4403-9840-501ae3630aea",
   "metadata": {},
   "outputs": [],
   "source": [
    "import_index = import_index[import_index['통화계약구분코드별'].str.contains('달러기준', na = False)]"
   ]
  },
  {
   "cell_type": "code",
   "execution_count": null,
   "id": "872fc7bf-fa6c-41e6-a424-8c4f908e39d7",
   "metadata": {},
   "outputs": [],
   "source": [
    "import_index.drop(['통화계약구분코드별'], axis=1, inplace=True)\n",
    "import_index.head()"
   ]
  },
  {
   "cell_type": "code",
   "execution_count": null,
   "id": "b202af33-9389-4b9b-8b2c-4c1ae923ee09",
   "metadata": {},
   "outputs": [],
   "source": [
    "import_index = import_index.transpose() #행 열 전환\n",
    "import_index.rename(columns=import_index.iloc[0], inplace=True) # 행열이 전환된 데이터프레임의 열 이름 제대로 수정\n",
    "import_index = import_index.drop(import_index.index[0])"
   ]
  },
  {
   "cell_type": "code",
   "execution_count": null,
   "id": "8b03f7fe-5fab-4c54-a941-b14161c7fe29",
   "metadata": {},
   "outputs": [],
   "source": [
    "import_index['연월일'] = import_index.index"
   ]
  },
  {
   "cell_type": "code",
   "execution_count": null,
   "id": "07fff90a-81bc-47aa-8299-e157da0df1e3",
   "metadata": {},
   "outputs": [],
   "source": [
    "import_index = import_index.reset_index(drop=True)"
   ]
  },
  {
   "cell_type": "code",
   "execution_count": null,
   "id": "554b99d2-dbab-4d1d-b3e7-b6afa3a80052",
   "metadata": {},
   "outputs": [],
   "source": [
    "import_index"
   ]
  },
  {
   "cell_type": "code",
   "execution_count": null,
   "id": "30fd1808-bb1f-4d9d-88ce-66d877e8e43a",
   "metadata": {},
   "outputs": [],
   "source": [
    "import_index['연월일'] = import_index['연월일'].str.slice(0,7)\n",
    "import_index"
   ]
  },
  {
   "cell_type": "code",
   "execution_count": null,
   "id": "b16a4c8c-e9d7-4704-99fa-d202fe244b62",
   "metadata": {},
   "outputs": [],
   "source": [
    "for i in range(len(import_index['연월일'])):\n",
    "    import_index['연월일'][i] = import_index[\"연월일\"][i].replace('.', '-')"
   ]
  },
  {
   "cell_type": "code",
   "execution_count": null,
   "id": "6206ff87-b37f-482a-8e62-e13ccb7f6722",
   "metadata": {},
   "outputs": [],
   "source": [
    "import_index"
   ]
  },
  {
   "cell_type": "code",
   "execution_count": null,
   "id": "481316be-6f72-4130-bbb7-59c84197d1d6",
   "metadata": {},
   "outputs": [],
   "source": [
    "import_index['연월일'] = pd.to_datetime(import_index['연월일'])\n",
    "import_index['year'] = import_index['연월일'].dt.year\n",
    "import_index['month'] = import_index['연월일'].dt.month"
   ]
  },
  {
   "cell_type": "code",
   "execution_count": null,
   "id": "e80c519a-141a-4632-b34b-41eb11e6b921",
   "metadata": {},
   "outputs": [],
   "source": [
    "import_index.drop(['연월일'], axis = 1, inplace = True)"
   ]
  },
  {
   "cell_type": "code",
   "execution_count": null,
   "id": "5f2aabd0-38e1-47d3-9016-703bef10c3d7",
   "metadata": {},
   "outputs": [],
   "source": [
    "# # 전체 데이터 merge\n",
    "main_join = pd.merge(main, import_index, how=\"inner\", on=(\"year\", \"month\"))"
   ]
  },
  {
   "cell_type": "code",
   "execution_count": null,
   "id": "06da9d77-f77b-4208-b4b8-410f06a85277",
   "metadata": {},
   "outputs": [],
   "source": [
    "main_join = pd.merge(main, introduction, how=\"inner\", on=(\"year\"))"
   ]
  },
  {
   "cell_type": "code",
   "execution_count": null,
   "id": "4099b3e8-276a-47e9-bdc7-5a06ef6e93f3",
   "metadata": {},
   "outputs": [],
   "source": [
    "main_join = pd.merge(main_join, weather_total, how=\"inner\", on=(\"year\", \"month\", \"day\"))"
   ]
  },
  {
   "cell_type": "code",
   "execution_count": null,
   "id": "9a012dce-97eb-4df6-88c9-91334bdd86bf",
   "metadata": {},
   "outputs": [],
   "source": [
    "main_join = spark.createDataFrame(main_join)"
   ]
  },
  {
   "cell_type": "code",
   "execution_count": null,
   "id": "bd3e9a8d-b4de-47dd-b2ab-b5007d576069",
   "metadata": {},
   "outputs": [],
   "source": [
    "electricity = spark.createDataFrame(electricity)"
   ]
  },
  {
   "cell_type": "code",
   "execution_count": null,
   "id": "108ac1ed-1877-4ad0-a243-aa9180e1fffa",
   "metadata": {},
   "outputs": [],
   "source": []
  },
  {
   "cell_type": "code",
   "execution_count": null,
   "id": "60d5ee38-e3ad-451c-82c5-7bf32bb69856",
   "metadata": {},
   "outputs": [],
   "source": []
  },
  {
   "cell_type": "code",
   "execution_count": null,
   "id": "7f8a4b62-6637-43ad-9205-2dce03cd3064",
   "metadata": {},
   "outputs": [],
   "source": [
    "from pyspark.sql.functions import expr\n",
    "\n",
    "df_ele = electricity.selectExpr(\"*\", \"year As ele_year\", \"month As ele_month\")\n",
    "\n",
    "joinExpression = ((main_join[\"year\"] == df_ele[\"ele_year\"]) & (main_join[\"month\"] == df_ele[\"ele_month\"]))\n",
    "joinType = \"inner\"\n",
    "new_main_join = main_join.join(df_ele, joinExpression, joinType)"
   ]
  },
  {
   "cell_type": "code",
   "execution_count": null,
   "id": "bb89b339-4519-424a-a880-44eb6e9119a8",
   "metadata": {},
   "outputs": [],
   "source": [
    "new_main_join.show()"
   ]
  },
  {
   "cell_type": "code",
   "execution_count": null,
   "id": "f036c9da-bf58-4ed6-bcc6-8f9443d1d614",
   "metadata": {},
   "outputs": [],
   "source": [
    "oil = spark.createDataFrame(oil)"
   ]
  },
  {
   "cell_type": "code",
   "execution_count": null,
   "id": "a0656345-59ba-4e44-b59e-c882591c34d3",
   "metadata": {},
   "outputs": [],
   "source": [
    "from pyspark.sql.functions import expr\n",
    "\n",
    "df_oil = oil.selectExpr(\"*\", \"year As oil_year\", \"year As oil_month\")\n",
    "\n",
    "joinExpression = ((new_main_join[\"ele_year\"] == df_oil[\"oil_year\"]) & (new_main_join[\"ele_month\"] == df_oil[\"oil_month\"]))\n",
    "joinType = \"inner\"\n",
    "new_main_join = new_main_join.join(df_oil, joinExpression, joinType)"
   ]
  },
  {
   "cell_type": "code",
   "execution_count": null,
   "id": "ea22bd32-67f9-40cd-8d89-05dbfe39a04c",
   "metadata": {},
   "outputs": [],
   "source": [
    "new_main_join.show()"
   ]
  },
  {
   "cell_type": "code",
   "execution_count": null,
   "id": "46eda51a-64bd-4b80-92ca-fa2e25ea18d2",
   "metadata": {},
   "outputs": [
    {
     "name": "stderr",
     "output_type": "stream",
     "text": [
      "----------------------------------------\n",
      "Exception occurred during processing of request from ('127.0.0.1', 56685)\n",
      "Traceback (most recent call last):\n",
      "  File \"C:\\Users\\iam_o\\anaconda3\\lib\\socketserver.py\", line 316, in _handle_request_noblock\n",
      "    self.process_request(request, client_address)\n",
      "  File \"C:\\Users\\iam_o\\anaconda3\\lib\\socketserver.py\", line 347, in process_request\n",
      "    self.finish_request(request, client_address)\n",
      "  File \"C:\\Users\\iam_o\\anaconda3\\lib\\socketserver.py\", line 360, in finish_request\n",
      "    self.RequestHandlerClass(request, client_address, self)\n",
      "  File \"C:\\Users\\iam_o\\anaconda3\\lib\\socketserver.py\", line 747, in __init__\n",
      "    self.handle()\n",
      "  File \"C:\\spark\\spark-3.3.1-bin-hadoop3\\python\\pyspark\\accumulators.py\", line 281, in handle\n",
      "    poll(accum_updates)\n",
      "  File \"C:\\spark\\spark-3.3.1-bin-hadoop3\\python\\pyspark\\accumulators.py\", line 253, in poll\n",
      "    if func():\n",
      "  File \"C:\\spark\\spark-3.3.1-bin-hadoop3\\python\\pyspark\\accumulators.py\", line 257, in accum_updates\n",
      "    num_updates = read_int(self.rfile)\n",
      "  File \"C:\\spark\\spark-3.3.1-bin-hadoop3\\python\\pyspark\\serializers.py\", line 593, in read_int\n",
      "    length = stream.read(4)\n",
      "  File \"C:\\Users\\iam_o\\anaconda3\\lib\\socket.py\", line 704, in readinto\n",
      "    return self._sock.recv_into(b)\n",
      "ConnectionResetError: [WinError 10054] 현재 연결은 원격 호스트에 의해 강제로 끊겼습니다\n",
      "----------------------------------------\n"
     ]
    }
   ],
   "source": [
    "df = new_main_join.select(\"연월일\", \"시간\", \"구분\", \"공급량\", \"year\", \"month\", \"day\", \"도입량\", \"수요량\", \"수요량_도시가스용\", \"수요량_발전용\", \"날짜\", \"평균기온(℃)\", \"y\", \"가스가격\", \"전기가격\", \"상대가격\")\n",
    "df = df.selectExpr(\"*\", \"평균기온(℃) As 기온\")\n",
    "df.show()"
   ]
  },
  {
   "cell_type": "code",
   "execution_count": null,
   "id": "ed738e36-1162-45b4-b5c6-908913c65f31",
   "metadata": {},
   "outputs": [],
   "source": []
  }
 ],
 "metadata": {
  "kernelspec": {
   "display_name": "Python 3 (ipykernel)",
   "language": "python",
   "name": "python3"
  },
  "language_info": {
   "codemirror_mode": {
    "name": "ipython",
    "version": 3
   },
   "file_extension": ".py",
   "mimetype": "text/x-python",
   "name": "python",
   "nbconvert_exporter": "python",
   "pygments_lexer": "ipython3",
   "version": "3.9.13"
  }
 },
 "nbformat": 4,
 "nbformat_minor": 5
}
