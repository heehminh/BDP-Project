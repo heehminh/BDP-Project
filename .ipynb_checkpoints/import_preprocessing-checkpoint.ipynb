{
 "cells": [
  {
   "cell_type": "code",
   "execution_count": null,
   "metadata": {
    "id": "UYA96o1pbJTV"
   },
   "outputs": [],
   "source": [
    "psn\n",
    "main = pd.read_csv(\"gas_data/main.csv\", encoding=\"cp949\")\n",
    "oil = pd.read_csv(\"gas_data/oil.csv\", encoding=\"cp949\")\n",
    "electricity = pd.read_csv(\"gas_data/electricity.csv\", encoding=\"cp949\")\n",
    "# production_index = pd.read_csv(\"gas_data/production_index.csv\", encoding=\"cp949\")\n",
    "\n",
    "temp2013 = pd.read_csv(\"gas_data/temp2013.csv\", encoding=\"cp949\")\n",
    "temp2014 = pd.read_csv(\"gas_data/temp2014.csv\", encoding=\"cp949\")\n",
    "temp2015 = pd.read_csv(\"gas_data/temp2015.csv\", encoding=\"cp949\")\n",
    "temp2016 = pd.read_csv(\"gas_data/temp2016.csv\", encoding=\"cp949\")\n",
    "temp2017 = pd.read_csv(\"gas_data/temp2017.csv\", encoding=\"cp949\")\n",
    "temp2018 = pd.read_csv(\"gas_data/temp2018.csv\", encoding=\"cp949\")"
   ]
  },
  {
   "cell_type": "code",
   "execution_count": null,
   "metadata": {
    "id": "arPH83ODbUxa"
   },
   "outputs": [],
   "source": [
    "#  '가스'가 포함된 행 추출\n",
    "import_index = import_index[import_index['계정코드별'].str.contains('가스', na = False)]"
   ]
  },
  {
   "cell_type": "code",
   "execution_count": null,
   "metadata": {
    "id": "9m78D3vzbwbl"
   },
   "outputs": [],
   "source": [
    "import_index.drop(['Unnamed: 76'], axis=1, inplace=True)"
   ]
  },
  {
   "cell_type": "code",
   "execution_count": null,
   "metadata": {
    "id": "sej6MoAtb02A"
   },
   "outputs": [],
   "source": [
    "import_index.head()"
   ]
  },
  {
   "cell_type": "code",
   "execution_count": null,
   "metadata": {
    "id": "Bz9cRVUBctUI"
   },
   "outputs": [],
   "source": []
  }
 ],
 "metadata": {
  "colab": {
   "authorship_tag": "ABX9TyMeHH2gbt4EOIt8QSEqTNsy",
   "private_outputs": true,
   "provenance": []
  },
  "kernelspec": {
   "display_name": "Python 3 (ipykernel)",
   "language": "python",
   "name": "python3"
  },
  "language_info": {
   "codemirror_mode": {
    "name": "ipython",
    "version": 3
   },
   "file_extension": ".py",
   "mimetype": "text/x-python",
   "name": "python",
   "nbconvert_exporter": "python",
   "pygments_lexer": "ipython3",
   "version": "3.9.13"
  }
 },
 "nbformat": 4,
 "nbformat_minor": 1
}
