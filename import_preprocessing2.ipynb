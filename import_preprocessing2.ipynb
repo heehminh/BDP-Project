{
 "cells": [
  {
   "cell_type": "code",
   "execution_count": 17,
   "metadata": {
    "executionInfo": {
     "elapsed": 2265,
     "status": "ok",
     "timestamp": 1670400597553,
     "user": {
      "displayName": "오수연",
      "userId": "05725602879826784609"
     },
     "user_tz": -540
    },
    "id": "uQzhE_l6KPl6"
   },
   "outputs": [],
   "source": [
    "import pandas as pd\n",
    "import numpy as np\n",
    "\n",
    "import_index = pd.read_csv(\"gas_data/import_index.csv\", encoding=\"cp949\")\n",
    "main = pd.read_csv(\"gas_data/main.csv\", encoding=\"cp949\")\n",
    "oil = pd.read_csv(\"gas_data/oil.csv\", encoding=\"cp949\")\n",
    "electricity = pd.read_csv(\"gas_data/electricity.csv\", encoding=\"cp949\")\n",
    "# production_index = pd.read_csv(\"gas_data/production_index.csv\", encoding=\"cp949\")\n",
    "\n",
    "temp2013 = pd.read_csv(\"gas_data/temp2013.csv\", encoding=\"cp949\")\n",
    "temp2014 = pd.read_csv(\"gas_data/temp2014.csv\", encoding=\"cp949\")\n",
    "temp2015 = pd.read_csv(\"gas_data/temp2015.csv\", encoding=\"cp949\")\n",
    "temp2016 = pd.read_csv(\"gas_data/temp2016.csv\", encoding=\"cp949\")\n",
    "temp2017 = pd.read_csv(\"gas_data/temp2017.csv\", encoding=\"cp949\")\n",
    "temp2018 = pd.read_csv(\"gas_data/temp2018.csv\", encoding=\"cp949\")"
   ]
  },
  {
   "cell_type": "code",
   "execution_count": 2,
   "metadata": {
    "colab": {
     "base_uri": "https://localhost:8080/"
    },
    "executionInfo": {
     "elapsed": 429,
     "status": "ok",
     "timestamp": 1670400605122,
     "user": {
      "displayName": "오수연",
      "userId": "05725602879826784609"
     },
     "user_tz": -540
    },
    "id": "P3X_CpiuMqak",
    "outputId": "ecb9b227-1acf-4aee-fcb9-5caf89dfbcc9"
   },
   "outputs": [
    {
     "data": {
      "text/plain": [
       "array(['A', 'B', 'C', 'D', 'E', 'G', 'H'], dtype=object)"
      ]
     },
     "execution_count": 2,
     "metadata": {},
     "output_type": "execute_result"
    }
   ],
   "source": [
    "main['구분'].unique()"
   ]
  },
  {
   "cell_type": "code",
   "execution_count": 3,
   "metadata": {
    "colab": {
     "base_uri": "https://localhost:8080/"
    },
    "executionInfo": {
     "elapsed": 17,
     "status": "ok",
     "timestamp": 1670400605123,
     "user": {
      "displayName": "오수연",
      "userId": "05725602879826784609"
     },
     "user_tz": -540
    },
    "id": "Y3GFCvaAVFMO",
    "outputId": "60a551d0-e04b-4760-dec1-71a739b5db75"
   },
   "outputs": [
    {
     "data": {
      "text/plain": [
       "0         0\n",
       "1         0\n",
       "2         0\n",
       "3         0\n",
       "4         0\n",
       "         ..\n",
       "368083    6\n",
       "368084    6\n",
       "368085    6\n",
       "368086    6\n",
       "368087    6\n",
       "Name: 구분, Length: 368088, dtype: int64"
      ]
     },
     "execution_count": 3,
     "metadata": {},
     "output_type": "execute_result"
    }
   ],
   "source": [
    "#main의 구분\n",
    "d_map={}\n",
    "for i, d in enumerate(main['구분'].unique()):\n",
    "  d_map[d] = i\n",
    "\n",
    "#A,B,C,D,E,F,..를 0,1,2,3,4,5,6으로 구분\n",
    "main['구분'] = main['구분'].map(d_map)\n",
    "main['구분']"
   ]
  },
  {
   "cell_type": "code",
   "execution_count": 4,
   "metadata": {
    "executionInfo": {
     "elapsed": 1296,
     "status": "ok",
     "timestamp": 1670400606409,
     "user": {
      "displayName": "오수연",
      "userId": "05725602879826784609"
     },
     "user_tz": -540
    },
    "id": "3YEH9LXbWn7R"
   },
   "outputs": [],
   "source": [
    "main['연월일'] = pd.to_datetime(main['연월일'])\n",
    "main['year'] = main['연월일'].dt.year\n",
    "main['month'] = main['연월일'].dt.month\n",
    "main['day'] = main['연월일'].dt.day"
   ]
  },
  {
   "cell_type": "code",
   "execution_count": 5,
   "metadata": {
    "executionInfo": {
     "elapsed": 23,
     "status": "ok",
     "timestamp": 1670400606411,
     "user": {
      "displayName": "오수연",
      "userId": "05725602879826784609"
     },
     "user_tz": -540
    },
    "id": "Qr2fLVpEY5oE"
   },
   "outputs": [],
   "source": [
    "def outliers_processing(df):\n",
    "  q1, q3 = np.percentile(df, [25, 75])\n",
    "  iqr = q3-q1\n",
    "  lower_bound = q1-(iqr*1.5)\n",
    "  upper_bound = q3 + (iqr*1.5)\n",
    "  return lower_bound, upper_bound"
   ]
  },
  {
   "cell_type": "code",
   "execution_count": 6,
   "metadata": {
    "colab": {
     "base_uri": "https://localhost:8080/"
    },
    "executionInfo": {
     "elapsed": 22,
     "status": "ok",
     "timestamp": 1670400606412,
     "user": {
      "displayName": "오수연",
      "userId": "05725602879826784609"
     },
     "user_tz": -540
    },
    "id": "ri1ENl79ZYT7",
    "outputId": "370988a1-366e-40e1-d367-6dd9318d5832"
   },
   "outputs": [
    {
     "data": {
      "text/plain": [
       "{0:               연월일  시간  구분       공급량  year  month  day\n",
       " 0      2013-01-01   1   0  2497.129  2013      1    1\n",
       " 1      2013-01-01   2   0  2363.265  2013      1    1\n",
       " 2      2013-01-01   3   0  2258.505  2013      1    1\n",
       " 3      2013-01-01   4   0  2243.969  2013      1    1\n",
       " 4      2013-01-01   5   0  2344.105  2013      1    1\n",
       " ...           ...  ..  ..       ...   ...    ...  ...\n",
       " 315523 2018-12-31  20   0  3040.868  2018     12   31\n",
       " 315524 2018-12-31  21   0  2973.577  2018     12   31\n",
       " 315525 2018-12-31  22   0  2840.272  2018     12   31\n",
       " 315526 2018-12-31  23   0  2692.385  2018     12   31\n",
       " 315527 2018-12-31  24   0  2583.340  2018     12   31\n",
       " \n",
       " [52584 rows x 7 columns],\n",
       " 1:               연월일  시간  구분       공급량  year  month  day\n",
       " 8760   2013-01-01   1   1  2169.093  2013      1    1\n",
       " 8761   2013-01-01   2   1  2051.733  2013      1    1\n",
       " 8762   2013-01-01   3   1  1923.253  2013      1    1\n",
       " 8763   2013-01-01   4   1  1927.253  2013      1    1\n",
       " 8764   2013-01-01   5   1  2047.333  2013      1    1\n",
       " ...           ...  ..  ..       ...   ...    ...  ...\n",
       " 324283 2018-12-31  20   1  2668.688  2018     12   31\n",
       " 324284 2018-12-31  21   1  2606.681  2018     12   31\n",
       " 324285 2018-12-31  22   1  2540.169  2018     12   31\n",
       " 324286 2018-12-31  23   1  2407.945  2018     12   31\n",
       " 324287 2018-12-31  24   1  2290.154  2018     12   31\n",
       " \n",
       " [52584 rows x 7 columns],\n",
       " 2:               연월일  시간  구분      공급량  year  month  day\n",
       " 17520  2013-01-01   1   2  226.178  2013      1    1\n",
       " 17521  2013-01-01   2   2  215.778  2013      1    1\n",
       " 17522  2013-01-01   3   2  202.178  2013      1    1\n",
       " 17523  2013-01-01   4   2  198.978  2013      1    1\n",
       " 17524  2013-01-01   5   2  200.578  2013      1    1\n",
       " ...           ...  ..  ..      ...   ...    ...  ...\n",
       " 333043 2018-12-31  20   2  265.980  2018     12   31\n",
       " 333044 2018-12-31  21   2  262.239  2018     12   31\n",
       " 333045 2018-12-31  22   2  256.000  2018     12   31\n",
       " 333046 2018-12-31  23   2  246.020  2018     12   31\n",
       " 333047 2018-12-31  24   2  237.911  2018     12   31\n",
       " \n",
       " [52584 rows x 7 columns],\n",
       " 3:               연월일  시간  구분       공급량  year  month  day\n",
       " 26280  2013-01-01   1   3  1434.516  2013      1    1\n",
       " 26281  2013-01-01   2   3  1345.636  2013      1    1\n",
       " 26282  2013-01-01   3   3  1270.756  2013      1    1\n",
       " 26283  2013-01-01   4   3  1322.036  2013      1    1\n",
       " 26284  2013-01-01   5   3  1421.956  2013      1    1\n",
       " ...           ...  ..  ..       ...   ...    ...  ...\n",
       " 341803 2018-12-31  20   3  1835.411  2018     12   31\n",
       " 341804 2018-12-31  21   3  1767.964  2018     12   31\n",
       " 341805 2018-12-31  22   3  1720.595  2018     12   31\n",
       " 341806 2018-12-31  23   3  1624.138  2018     12   31\n",
       " 341807 2018-12-31  24   3  1422.478  2018     12   31\n",
       " \n",
       " [52584 rows x 7 columns],\n",
       " 4:               연월일  시간  구분       공급량  year  month  day\n",
       " 35040  2013-01-01   1   4  3272.837  2013      1    1\n",
       " 35041  2013-01-01   2   4  3057.125  2013      1    1\n",
       " 35042  2013-01-01   3   4  2907.765  2013      1    1\n",
       " 35043  2013-01-01   4   4  2930.789  2013      1    1\n",
       " 35044  2013-01-01   5   4  3067.805  2013      1    1\n",
       " ...           ...  ..  ..       ...   ...    ...  ...\n",
       " 350563 2018-12-31  20   4  4074.485  2018     12   31\n",
       " 350564 2018-12-31  21   4  4037.720  2018     12   31\n",
       " 350565 2018-12-31  22   4  3954.210  2018     12   31\n",
       " 350566 2018-12-31  23   4  3745.844  2018     12   31\n",
       " 350567 2018-12-31  24   4  3534.260  2018     12   31\n",
       " \n",
       " [52584 rows x 7 columns],\n",
       " 5:               연월일  시간  구분       공급량  year  month  day\n",
       " 43800  2013-01-01   1   5  3560.365  2013      1    1\n",
       " 43801  2013-01-01   2   5  3354.245  2013      1    1\n",
       " 43802  2013-01-01   3   5  3115.757  2013      1    1\n",
       " 43803  2013-01-01   4   5  3034.237  2013      1    1\n",
       " 43804  2013-01-01   5   5  3050.469  2013      1    1\n",
       " ...           ...  ..  ..       ...   ...    ...  ...\n",
       " 359323 2018-12-31  20   5  4657.562  2018     12   31\n",
       " 359324 2018-12-31  21   5  4486.845  2018     12   31\n",
       " 359325 2018-12-31  22   5  4354.915  2018     12   31\n",
       " 359326 2018-12-31  23   5  4204.484  2018     12   31\n",
       " 359327 2018-12-31  24   5  3982.757  2018     12   31\n",
       " \n",
       " [52584 rows x 7 columns],\n",
       " 6:               연월일  시간  구분      공급량  year  month  day\n",
       " 52560  2013-01-01   1   6  562.964  2013      1    1\n",
       " 52561  2013-01-01   2   6  531.228  2013      1    1\n",
       " 52562  2013-01-01   3   6  496.276  2013      1    1\n",
       " 52563  2013-01-01   4   6  489.396  2013      1    1\n",
       " 52564  2013-01-01   5   6  535.420  2013      1    1\n",
       " ...           ...  ..  ..      ...   ...    ...  ...\n",
       " 368083 2018-12-31  20   6  681.033  2018     12   31\n",
       " 368084 2018-12-31  21   6  669.961  2018     12   31\n",
       " 368085 2018-12-31  22   6  657.941  2018     12   31\n",
       " 368086 2018-12-31  23   6  610.953  2018     12   31\n",
       " 368087 2018-12-31  24   6  560.896  2018     12   31\n",
       " \n",
       " [52584 rows x 7 columns]}"
      ]
     },
     "execution_count": 6,
     "metadata": {},
     "output_type": "execute_result"
    }
   ],
   "source": [
    "main_by_sections = {}\n",
    "for i in range(7):\n",
    "  main_by_sections[i] = main[main['구분'] == i]\n",
    "main_by_sections"
   ]
  },
  {
   "cell_type": "code",
   "execution_count": 7,
   "metadata": {
    "executionInfo": {
     "elapsed": 17,
     "status": "ok",
     "timestamp": 1670400606413,
     "user": {
      "displayName": "오수연",
      "userId": "05725602879826784609"
     },
     "user_tz": -540
    },
    "id": "fgezGOFXaqE0"
   },
   "outputs": [],
   "source": [
    "lower = {}\n",
    "upper = {}\n",
    "for i in range(7):\n",
    "  lower[i] = {}\n",
    "  upper[i] = {}\n",
    "  for j in range(12):\n",
    "    lower[i][j], upper[i][j]= outliers_processing(main_by_sections[i][main_by_sections[i]['month'] == j+1]['공급량'])\n",
    "\n"
   ]
  },
  {
   "cell_type": "code",
   "execution_count": 8,
   "metadata": {
    "executionInfo": {
     "elapsed": 16,
     "status": "ok",
     "timestamp": 1670400606414,
     "user": {
      "displayName": "오수연",
      "userId": "05725602879826784609"
     },
     "user_tz": -540
    },
    "id": "Rxsuih6BdGKI"
   },
   "outputs": [],
   "source": [
    "main['lower'] =\"\"\n",
    "main['upper'] =\"\""
   ]
  },
  {
   "cell_type": "code",
   "execution_count": 9,
   "metadata": {
    "executionInfo": {
     "elapsed": 1274,
     "status": "ok",
     "timestamp": 1670400607673,
     "user": {
      "displayName": "오수연",
      "userId": "05725602879826784609"
     },
     "user_tz": -540
    },
    "id": "HVYhpPnldLs2"
   },
   "outputs": [],
   "source": [
    "for i in range(7):\n",
    "  for j in range(12):\n",
    "    main.loc[(main['구분']==i)&(main['month']==j+1),'lower' ] = lower[i][j]\n",
    "    main.loc[(main['구분']==i)&(main['month']==j+1),'upper' ] = upper[i][j]"
   ]
  },
  {
   "cell_type": "code",
   "execution_count": 10,
   "metadata": {
    "executionInfo": {
     "elapsed": 14,
     "status": "ok",
     "timestamp": 1670400607674,
     "user": {
      "displayName": "오수연",
      "userId": "05725602879826784609"
     },
     "user_tz": -540
    },
    "id": "xM1xvFmMd9So"
   },
   "outputs": [],
   "source": [
    "main['이상치처리_공급량'] =\"\""
   ]
  },
  {
   "cell_type": "code",
   "execution_count": 11,
   "metadata": {
    "executionInfo": {
     "elapsed": 9685,
     "status": "ok",
     "timestamp": 1670400617346,
     "user": {
      "displayName": "오수연",
      "userId": "05725602879826784609"
     },
     "user_tz": -540
    },
    "id": "CsrISlsTeB0H"
   },
   "outputs": [],
   "source": [
    "main['이상치처리_공급량'] = main.apply(lambda x: x['lower'] if x['공급량'] < x['lower'] else x['upper'] if x['공급량'] > x['upper'] else x['공급량'], axis = 1)"
   ]
  },
  {
   "cell_type": "code",
   "execution_count": 12,
   "metadata": {
    "colab": {
     "base_uri": "https://localhost:8080/",
     "height": 424
    },
    "executionInfo": {
     "elapsed": 62,
     "status": "ok",
     "timestamp": 1670400617347,
     "user": {
      "displayName": "오수연",
      "userId": "05725602879826784609"
     },
     "user_tz": -540
    },
    "id": "I8N97WvTefq8",
    "outputId": "6ed65141-da5f-44eb-8ad1-4e9d9fe43069"
   },
   "outputs": [
    {
     "data": {
      "text/html": [
       "<div>\n",
       "<style scoped>\n",
       "    .dataframe tbody tr th:only-of-type {\n",
       "        vertical-align: middle;\n",
       "    }\n",
       "\n",
       "    .dataframe tbody tr th {\n",
       "        vertical-align: top;\n",
       "    }\n",
       "\n",
       "    .dataframe thead th {\n",
       "        text-align: right;\n",
       "    }\n",
       "</style>\n",
       "<table border=\"1\" class=\"dataframe\">\n",
       "  <thead>\n",
       "    <tr style=\"text-align: right;\">\n",
       "      <th></th>\n",
       "      <th>연월일</th>\n",
       "      <th>시간</th>\n",
       "      <th>구분</th>\n",
       "      <th>공급량</th>\n",
       "      <th>year</th>\n",
       "      <th>month</th>\n",
       "      <th>day</th>\n",
       "    </tr>\n",
       "  </thead>\n",
       "  <tbody>\n",
       "    <tr>\n",
       "      <th>0</th>\n",
       "      <td>2013-01-01</td>\n",
       "      <td>1</td>\n",
       "      <td>0</td>\n",
       "      <td>2497.129</td>\n",
       "      <td>2013</td>\n",
       "      <td>1</td>\n",
       "      <td>1</td>\n",
       "    </tr>\n",
       "    <tr>\n",
       "      <th>1</th>\n",
       "      <td>2013-01-01</td>\n",
       "      <td>2</td>\n",
       "      <td>0</td>\n",
       "      <td>2363.265</td>\n",
       "      <td>2013</td>\n",
       "      <td>1</td>\n",
       "      <td>1</td>\n",
       "    </tr>\n",
       "    <tr>\n",
       "      <th>2</th>\n",
       "      <td>2013-01-01</td>\n",
       "      <td>3</td>\n",
       "      <td>0</td>\n",
       "      <td>2258.505</td>\n",
       "      <td>2013</td>\n",
       "      <td>1</td>\n",
       "      <td>1</td>\n",
       "    </tr>\n",
       "    <tr>\n",
       "      <th>3</th>\n",
       "      <td>2013-01-01</td>\n",
       "      <td>4</td>\n",
       "      <td>0</td>\n",
       "      <td>2243.969</td>\n",
       "      <td>2013</td>\n",
       "      <td>1</td>\n",
       "      <td>1</td>\n",
       "    </tr>\n",
       "    <tr>\n",
       "      <th>4</th>\n",
       "      <td>2013-01-01</td>\n",
       "      <td>5</td>\n",
       "      <td>0</td>\n",
       "      <td>2344.105</td>\n",
       "      <td>2013</td>\n",
       "      <td>1</td>\n",
       "      <td>1</td>\n",
       "    </tr>\n",
       "    <tr>\n",
       "      <th>...</th>\n",
       "      <td>...</td>\n",
       "      <td>...</td>\n",
       "      <td>...</td>\n",
       "      <td>...</td>\n",
       "      <td>...</td>\n",
       "      <td>...</td>\n",
       "      <td>...</td>\n",
       "    </tr>\n",
       "    <tr>\n",
       "      <th>368083</th>\n",
       "      <td>2018-12-31</td>\n",
       "      <td>20</td>\n",
       "      <td>6</td>\n",
       "      <td>681.033</td>\n",
       "      <td>2018</td>\n",
       "      <td>12</td>\n",
       "      <td>31</td>\n",
       "    </tr>\n",
       "    <tr>\n",
       "      <th>368084</th>\n",
       "      <td>2018-12-31</td>\n",
       "      <td>21</td>\n",
       "      <td>6</td>\n",
       "      <td>669.961</td>\n",
       "      <td>2018</td>\n",
       "      <td>12</td>\n",
       "      <td>31</td>\n",
       "    </tr>\n",
       "    <tr>\n",
       "      <th>368085</th>\n",
       "      <td>2018-12-31</td>\n",
       "      <td>22</td>\n",
       "      <td>6</td>\n",
       "      <td>657.941</td>\n",
       "      <td>2018</td>\n",
       "      <td>12</td>\n",
       "      <td>31</td>\n",
       "    </tr>\n",
       "    <tr>\n",
       "      <th>368086</th>\n",
       "      <td>2018-12-31</td>\n",
       "      <td>23</td>\n",
       "      <td>6</td>\n",
       "      <td>610.953</td>\n",
       "      <td>2018</td>\n",
       "      <td>12</td>\n",
       "      <td>31</td>\n",
       "    </tr>\n",
       "    <tr>\n",
       "      <th>368087</th>\n",
       "      <td>2018-12-31</td>\n",
       "      <td>24</td>\n",
       "      <td>6</td>\n",
       "      <td>560.896</td>\n",
       "      <td>2018</td>\n",
       "      <td>12</td>\n",
       "      <td>31</td>\n",
       "    </tr>\n",
       "  </tbody>\n",
       "</table>\n",
       "<p>368088 rows × 7 columns</p>\n",
       "</div>"
      ],
      "text/plain": [
       "              연월일  시간  구분       공급량  year  month  day\n",
       "0      2013-01-01   1   0  2497.129  2013      1    1\n",
       "1      2013-01-01   2   0  2363.265  2013      1    1\n",
       "2      2013-01-01   3   0  2258.505  2013      1    1\n",
       "3      2013-01-01   4   0  2243.969  2013      1    1\n",
       "4      2013-01-01   5   0  2344.105  2013      1    1\n",
       "...           ...  ..  ..       ...   ...    ...  ...\n",
       "368083 2018-12-31  20   6   681.033  2018     12   31\n",
       "368084 2018-12-31  21   6   669.961  2018     12   31\n",
       "368085 2018-12-31  22   6   657.941  2018     12   31\n",
       "368086 2018-12-31  23   6   610.953  2018     12   31\n",
       "368087 2018-12-31  24   6   560.896  2018     12   31\n",
       "\n",
       "[368088 rows x 7 columns]"
      ]
     },
     "execution_count": 12,
     "metadata": {},
     "output_type": "execute_result"
    }
   ],
   "source": [
    "main['공급량'] = main['이상치처리_공급량']\n",
    "main = main.drop(['lower', 'upper', '이상치처리_공급량'], axis = 1)\n",
    "main"
   ]
  },
  {
   "cell_type": "code",
   "execution_count": 18,
   "metadata": {
    "executionInfo": {
     "elapsed": 59,
     "status": "ok",
     "timestamp": 1670400617348,
     "user": {
      "displayName": "오수연",
      "userId": "05725602879826784609"
     },
     "user_tz": -540
    },
    "id": "udkMu0NdkoxS"
   },
   "outputs": [],
   "source": [
    "#  '가스'가 포함된 행 추출\n",
    "import_index = import_index[import_index['계정코드별'].str.contains('가스', na = False)]"
   ]
  },
  {
   "cell_type": "code",
   "execution_count": 19,
   "metadata": {
    "colab": {
     "base_uri": "https://localhost:8080/"
    },
    "executionInfo": {
     "elapsed": 57,
     "status": "ok",
     "timestamp": 1670400617348,
     "user": {
      "displayName": "오수연",
      "userId": "05725602879826784609"
     },
     "user_tz": -540
    },
    "id": "18gr0_2wks6C",
    "outputId": "5c23bfe2-1059-4c2c-93dd-80d639168593"
   },
   "outputs": [],
   "source": [
    "import_index.drop(['Unnamed: 76','단위','항목'], axis=1, inplace=True)"
   ]
  },
  {
   "cell_type": "code",
   "execution_count": 20,
   "metadata": {
    "executionInfo": {
     "elapsed": 25,
     "status": "ok",
     "timestamp": 1670400617348,
     "user": {
      "displayName": "오수연",
      "userId": "05725602879826784609"
     },
     "user_tz": -540
    },
    "id": "jVsxEnx2ks7r"
   },
   "outputs": [],
   "source": [
    "# 달러기준만 추출\n",
    "import_index = import_index[import_index['통화계약구분코드별'].str.contains('달러기준', na = False)]"
   ]
  },
  {
   "cell_type": "code",
   "execution_count": 21,
   "metadata": {
    "colab": {
     "base_uri": "https://localhost:8080/",
     "height": 494
    },
    "executionInfo": {
     "elapsed": 25,
     "status": "ok",
     "timestamp": 1670400617349,
     "user": {
      "displayName": "오수연",
      "userId": "05725602879826784609"
     },
     "user_tz": -540
    },
    "id": "TGQtdd-Iks-C",
    "outputId": "ed00eb8a-7fb9-4d7b-cde5-5e180ecb4f1a"
   },
   "outputs": [
    {
     "data": {
      "text/html": [
       "<div>\n",
       "<style scoped>\n",
       "    .dataframe tbody tr th:only-of-type {\n",
       "        vertical-align: middle;\n",
       "    }\n",
       "\n",
       "    .dataframe tbody tr th {\n",
       "        vertical-align: top;\n",
       "    }\n",
       "\n",
       "    .dataframe thead th {\n",
       "        text-align: right;\n",
       "    }\n",
       "</style>\n",
       "<table border=\"1\" class=\"dataframe\">\n",
       "  <thead>\n",
       "    <tr style=\"text-align: right;\">\n",
       "      <th></th>\n",
       "      <th>계정코드별</th>\n",
       "      <th>2013.01 월</th>\n",
       "      <th>2013.02 월</th>\n",
       "      <th>2013.03 월</th>\n",
       "      <th>2013.04 월</th>\n",
       "      <th>2013.05 월</th>\n",
       "      <th>2013.06 월</th>\n",
       "      <th>2013.07 월</th>\n",
       "      <th>2013.08 월</th>\n",
       "      <th>2013.09 월</th>\n",
       "      <th>...</th>\n",
       "      <th>2018.03 월</th>\n",
       "      <th>2018.04 월</th>\n",
       "      <th>2018.05 월</th>\n",
       "      <th>2018.06 월</th>\n",
       "      <th>2018.07 월</th>\n",
       "      <th>2018.08 월</th>\n",
       "      <th>2018.09 월</th>\n",
       "      <th>2018.10 월</th>\n",
       "      <th>2018.11 월</th>\n",
       "      <th>2018.12 월</th>\n",
       "    </tr>\n",
       "  </thead>\n",
       "  <tbody>\n",
       "    <tr>\n",
       "      <th>56</th>\n",
       "      <td>석탄,원유및천연가스</td>\n",
       "      <td>190.46</td>\n",
       "      <td>194.75</td>\n",
       "      <td>187.86</td>\n",
       "      <td>182.29</td>\n",
       "      <td>180.80</td>\n",
       "      <td>180.65</td>\n",
       "      <td>183.44</td>\n",
       "      <td>189.30</td>\n",
       "      <td>190.54</td>\n",
       "      <td>...</td>\n",
       "      <td>118.77</td>\n",
       "      <td>126.23</td>\n",
       "      <td>134.87</td>\n",
       "      <td>134.72</td>\n",
       "      <td>133.05</td>\n",
       "      <td>132.79</td>\n",
       "      <td>140.82</td>\n",
       "      <td>144.15</td>\n",
       "      <td>127.28</td>\n",
       "      <td>116.86</td>\n",
       "    </tr>\n",
       "    <tr>\n",
       "      <th>413</th>\n",
       "      <td>천연가스(LNG)</td>\n",
       "      <td>151.82</td>\n",
       "      <td>154.08</td>\n",
       "      <td>154.76</td>\n",
       "      <td>151.69</td>\n",
       "      <td>151.11</td>\n",
       "      <td>152.35</td>\n",
       "      <td>150.72</td>\n",
       "      <td>157.01</td>\n",
       "      <td>154.67</td>\n",
       "      <td>...</td>\n",
       "      <td>93.73</td>\n",
       "      <td>97.29</td>\n",
       "      <td>101.17</td>\n",
       "      <td>101.01</td>\n",
       "      <td>100.97</td>\n",
       "      <td>105.19</td>\n",
       "      <td>111.67</td>\n",
       "      <td>113.75</td>\n",
       "      <td>115.46</td>\n",
       "      <td>115.23</td>\n",
       "    </tr>\n",
       "    <tr>\n",
       "      <th>416</th>\n",
       "      <td>원유및천연가스</td>\n",
       "      <td>196.33</td>\n",
       "      <td>201.51</td>\n",
       "      <td>193.62</td>\n",
       "      <td>187.19</td>\n",
       "      <td>185.20</td>\n",
       "      <td>185.27</td>\n",
       "      <td>189.62</td>\n",
       "      <td>196.52</td>\n",
       "      <td>197.51</td>\n",
       "      <td>...</td>\n",
       "      <td>113.67</td>\n",
       "      <td>122.51</td>\n",
       "      <td>132.32</td>\n",
       "      <td>131.13</td>\n",
       "      <td>130.40</td>\n",
       "      <td>130.57</td>\n",
       "      <td>139.00</td>\n",
       "      <td>142.63</td>\n",
       "      <td>123.17</td>\n",
       "      <td>111.28</td>\n",
       "    </tr>\n",
       "    <tr>\n",
       "      <th>734</th>\n",
       "      <td>액화석유가스</td>\n",
       "      <td>223.27</td>\n",
       "      <td>212.75</td>\n",
       "      <td>209.24</td>\n",
       "      <td>190.31</td>\n",
       "      <td>176.83</td>\n",
       "      <td>177.29</td>\n",
       "      <td>185.24</td>\n",
       "      <td>191.71</td>\n",
       "      <td>201.85</td>\n",
       "      <td>...</td>\n",
       "      <td>110.71</td>\n",
       "      <td>110.57</td>\n",
       "      <td>117.45</td>\n",
       "      <td>130.96</td>\n",
       "      <td>131.33</td>\n",
       "      <td>137.18</td>\n",
       "      <td>143.90</td>\n",
       "      <td>153.17</td>\n",
       "      <td>124.75</td>\n",
       "      <td>100.99</td>\n",
       "    </tr>\n",
       "  </tbody>\n",
       "</table>\n",
       "<p>4 rows × 73 columns</p>\n",
       "</div>"
      ],
      "text/plain": [
       "          계정코드별  2013.01 월  2013.02 월  2013.03 월  2013.04 월  2013.05 월  \\\n",
       "56   석탄,원유및천연가스     190.46     194.75     187.86     182.29     180.80   \n",
       "413   천연가스(LNG)     151.82     154.08     154.76     151.69     151.11   \n",
       "416     원유및천연가스     196.33     201.51     193.62     187.19     185.20   \n",
       "734      액화석유가스     223.27     212.75     209.24     190.31     176.83   \n",
       "\n",
       "     2013.06 월  2013.07 월  2013.08 월  2013.09 월  ...  2018.03 월  2018.04 월  \\\n",
       "56      180.65     183.44     189.30     190.54  ...     118.77     126.23   \n",
       "413     152.35     150.72     157.01     154.67  ...      93.73      97.29   \n",
       "416     185.27     189.62     196.52     197.51  ...     113.67     122.51   \n",
       "734     177.29     185.24     191.71     201.85  ...     110.71     110.57   \n",
       "\n",
       "     2018.05 월  2018.06 월  2018.07 월  2018.08 월  2018.09 월  2018.10 월  \\\n",
       "56      134.87     134.72     133.05     132.79     140.82     144.15   \n",
       "413     101.17     101.01     100.97     105.19     111.67     113.75   \n",
       "416     132.32     131.13     130.40     130.57     139.00     142.63   \n",
       "734     117.45     130.96     131.33     137.18     143.90     153.17   \n",
       "\n",
       "     2018.11 월  2018.12 월  \n",
       "56      127.28     116.86  \n",
       "413     115.46     115.23  \n",
       "416     123.17     111.28  \n",
       "734     124.75     100.99  \n",
       "\n",
       "[4 rows x 73 columns]"
      ]
     },
     "execution_count": 21,
     "metadata": {},
     "output_type": "execute_result"
    }
   ],
   "source": [
    "import_index.drop(['통화계약구분코드별'], axis=1, inplace=True)\n",
    "import_index.head()"
   ]
  },
  {
   "cell_type": "code",
   "execution_count": 22,
   "metadata": {},
   "outputs": [],
   "source": [
    "import_index = import_index.transpose() #행 열 전환\n",
    "import_index.rename(columns=import_index.iloc[0], inplace=True) # 행열이 전환된 데이터프레임의 열 이름 제대로 수정\n",
    "import_index = import_index.drop(import_index.index[0])"
   ]
  },
  {
   "cell_type": "code",
   "execution_count": 30,
   "metadata": {
    "scrolled": false
   },
   "outputs": [],
   "source": [
    "import_index['연월일'] = import_index.index"
   ]
  },
  {
   "cell_type": "code",
   "execution_count": 51,
   "metadata": {},
   "outputs": [],
   "source": [
    "import_index = import_index.reset_index(drop=True)"
   ]
  },
  {
   "cell_type": "code",
   "execution_count": 67,
   "metadata": {},
   "outputs": [
    {
     "data": {
      "text/html": [
       "<div>\n",
       "<style scoped>\n",
       "    .dataframe tbody tr th:only-of-type {\n",
       "        vertical-align: middle;\n",
       "    }\n",
       "\n",
       "    .dataframe tbody tr th {\n",
       "        vertical-align: top;\n",
       "    }\n",
       "\n",
       "    .dataframe thead th {\n",
       "        text-align: right;\n",
       "    }\n",
       "</style>\n",
       "<table border=\"1\" class=\"dataframe\">\n",
       "  <thead>\n",
       "    <tr style=\"text-align: right;\">\n",
       "      <th></th>\n",
       "      <th>석탄,원유및천연가스</th>\n",
       "      <th>천연가스(LNG)</th>\n",
       "      <th>원유및천연가스</th>\n",
       "      <th>액화석유가스</th>\n",
       "      <th>연월일</th>\n",
       "    </tr>\n",
       "  </thead>\n",
       "  <tbody>\n",
       "    <tr>\n",
       "      <th>0</th>\n",
       "      <td>190.46</td>\n",
       "      <td>151.82</td>\n",
       "      <td>196.33</td>\n",
       "      <td>223.27</td>\n",
       "      <td>2013.01 월</td>\n",
       "    </tr>\n",
       "    <tr>\n",
       "      <th>1</th>\n",
       "      <td>194.75</td>\n",
       "      <td>154.08</td>\n",
       "      <td>201.51</td>\n",
       "      <td>212.75</td>\n",
       "      <td>2013.02 월</td>\n",
       "    </tr>\n",
       "    <tr>\n",
       "      <th>2</th>\n",
       "      <td>187.86</td>\n",
       "      <td>154.76</td>\n",
       "      <td>193.62</td>\n",
       "      <td>209.24</td>\n",
       "      <td>2013.03 월</td>\n",
       "    </tr>\n",
       "    <tr>\n",
       "      <th>3</th>\n",
       "      <td>182.29</td>\n",
       "      <td>151.69</td>\n",
       "      <td>187.19</td>\n",
       "      <td>190.31</td>\n",
       "      <td>2013.04 월</td>\n",
       "    </tr>\n",
       "    <tr>\n",
       "      <th>4</th>\n",
       "      <td>180.8</td>\n",
       "      <td>151.11</td>\n",
       "      <td>185.2</td>\n",
       "      <td>176.83</td>\n",
       "      <td>2013.05 월</td>\n",
       "    </tr>\n",
       "    <tr>\n",
       "      <th>...</th>\n",
       "      <td>...</td>\n",
       "      <td>...</td>\n",
       "      <td>...</td>\n",
       "      <td>...</td>\n",
       "      <td>...</td>\n",
       "    </tr>\n",
       "    <tr>\n",
       "      <th>67</th>\n",
       "      <td>132.79</td>\n",
       "      <td>105.19</td>\n",
       "      <td>130.57</td>\n",
       "      <td>137.18</td>\n",
       "      <td>2018.08 월</td>\n",
       "    </tr>\n",
       "    <tr>\n",
       "      <th>68</th>\n",
       "      <td>140.82</td>\n",
       "      <td>111.67</td>\n",
       "      <td>139.0</td>\n",
       "      <td>143.9</td>\n",
       "      <td>2018.09 월</td>\n",
       "    </tr>\n",
       "    <tr>\n",
       "      <th>69</th>\n",
       "      <td>144.15</td>\n",
       "      <td>113.75</td>\n",
       "      <td>142.63</td>\n",
       "      <td>153.17</td>\n",
       "      <td>2018.10 월</td>\n",
       "    </tr>\n",
       "    <tr>\n",
       "      <th>70</th>\n",
       "      <td>127.28</td>\n",
       "      <td>115.46</td>\n",
       "      <td>123.17</td>\n",
       "      <td>124.75</td>\n",
       "      <td>2018.11 월</td>\n",
       "    </tr>\n",
       "    <tr>\n",
       "      <th>71</th>\n",
       "      <td>116.86</td>\n",
       "      <td>115.23</td>\n",
       "      <td>111.28</td>\n",
       "      <td>100.99</td>\n",
       "      <td>2018.12 월</td>\n",
       "    </tr>\n",
       "  </tbody>\n",
       "</table>\n",
       "<p>72 rows × 5 columns</p>\n",
       "</div>"
      ],
      "text/plain": [
       "   석탄,원유및천연가스 천연가스(LNG) 원유및천연가스  액화석유가스        연월일\n",
       "0      190.46    151.82  196.33  223.27  2013.01 월\n",
       "1      194.75    154.08  201.51  212.75  2013.02 월\n",
       "2      187.86    154.76  193.62  209.24  2013.03 월\n",
       "3      182.29    151.69  187.19  190.31  2013.04 월\n",
       "4       180.8    151.11   185.2  176.83  2013.05 월\n",
       "..        ...       ...     ...     ...        ...\n",
       "67     132.79    105.19  130.57  137.18  2018.08 월\n",
       "68     140.82    111.67   139.0   143.9  2018.09 월\n",
       "69     144.15    113.75  142.63  153.17  2018.10 월\n",
       "70     127.28    115.46  123.17  124.75  2018.11 월\n",
       "71     116.86    115.23  111.28  100.99  2018.12 월\n",
       "\n",
       "[72 rows x 5 columns]"
      ]
     },
     "execution_count": 67,
     "metadata": {},
     "output_type": "execute_result"
    }
   ],
   "source": [
    "import_index"
   ]
  },
  {
   "cell_type": "code",
   "execution_count": 119,
   "metadata": {},
   "outputs": [],
   "source": [
    "import_index['연월일'] = import_index['연월일'].str.slice(0,7)"
   ]
  },
  {
   "cell_type": "code",
   "execution_count": 121,
   "metadata": {},
   "outputs": [
    {
     "data": {
      "text/html": [
       "<div>\n",
       "<style scoped>\n",
       "    .dataframe tbody tr th:only-of-type {\n",
       "        vertical-align: middle;\n",
       "    }\n",
       "\n",
       "    .dataframe tbody tr th {\n",
       "        vertical-align: top;\n",
       "    }\n",
       "\n",
       "    .dataframe thead th {\n",
       "        text-align: right;\n",
       "    }\n",
       "</style>\n",
       "<table border=\"1\" class=\"dataframe\">\n",
       "  <thead>\n",
       "    <tr style=\"text-align: right;\">\n",
       "      <th></th>\n",
       "      <th>석탄,원유및천연가스</th>\n",
       "      <th>천연가스(LNG)</th>\n",
       "      <th>원유및천연가스</th>\n",
       "      <th>액화석유가스</th>\n",
       "      <th>연월일</th>\n",
       "    </tr>\n",
       "  </thead>\n",
       "  <tbody>\n",
       "    <tr>\n",
       "      <th>0</th>\n",
       "      <td>190.46</td>\n",
       "      <td>151.82</td>\n",
       "      <td>196.33</td>\n",
       "      <td>223.27</td>\n",
       "      <td>2013.01</td>\n",
       "    </tr>\n",
       "    <tr>\n",
       "      <th>1</th>\n",
       "      <td>194.75</td>\n",
       "      <td>154.08</td>\n",
       "      <td>201.51</td>\n",
       "      <td>212.75</td>\n",
       "      <td>2013.02</td>\n",
       "    </tr>\n",
       "    <tr>\n",
       "      <th>2</th>\n",
       "      <td>187.86</td>\n",
       "      <td>154.76</td>\n",
       "      <td>193.62</td>\n",
       "      <td>209.24</td>\n",
       "      <td>2013.03</td>\n",
       "    </tr>\n",
       "    <tr>\n",
       "      <th>3</th>\n",
       "      <td>182.29</td>\n",
       "      <td>151.69</td>\n",
       "      <td>187.19</td>\n",
       "      <td>190.31</td>\n",
       "      <td>2013.04</td>\n",
       "    </tr>\n",
       "    <tr>\n",
       "      <th>4</th>\n",
       "      <td>180.8</td>\n",
       "      <td>151.11</td>\n",
       "      <td>185.2</td>\n",
       "      <td>176.83</td>\n",
       "      <td>2013.05</td>\n",
       "    </tr>\n",
       "    <tr>\n",
       "      <th>...</th>\n",
       "      <td>...</td>\n",
       "      <td>...</td>\n",
       "      <td>...</td>\n",
       "      <td>...</td>\n",
       "      <td>...</td>\n",
       "    </tr>\n",
       "    <tr>\n",
       "      <th>67</th>\n",
       "      <td>132.79</td>\n",
       "      <td>105.19</td>\n",
       "      <td>130.57</td>\n",
       "      <td>137.18</td>\n",
       "      <td>2018.08</td>\n",
       "    </tr>\n",
       "    <tr>\n",
       "      <th>68</th>\n",
       "      <td>140.82</td>\n",
       "      <td>111.67</td>\n",
       "      <td>139.0</td>\n",
       "      <td>143.9</td>\n",
       "      <td>2018.09</td>\n",
       "    </tr>\n",
       "    <tr>\n",
       "      <th>69</th>\n",
       "      <td>144.15</td>\n",
       "      <td>113.75</td>\n",
       "      <td>142.63</td>\n",
       "      <td>153.17</td>\n",
       "      <td>2018.10</td>\n",
       "    </tr>\n",
       "    <tr>\n",
       "      <th>70</th>\n",
       "      <td>127.28</td>\n",
       "      <td>115.46</td>\n",
       "      <td>123.17</td>\n",
       "      <td>124.75</td>\n",
       "      <td>2018.11</td>\n",
       "    </tr>\n",
       "    <tr>\n",
       "      <th>71</th>\n",
       "      <td>116.86</td>\n",
       "      <td>115.23</td>\n",
       "      <td>111.28</td>\n",
       "      <td>100.99</td>\n",
       "      <td>2018.12</td>\n",
       "    </tr>\n",
       "  </tbody>\n",
       "</table>\n",
       "<p>72 rows × 5 columns</p>\n",
       "</div>"
      ],
      "text/plain": [
       "   석탄,원유및천연가스 천연가스(LNG) 원유및천연가스  액화석유가스      연월일\n",
       "0      190.46    151.82  196.33  223.27  2013.01\n",
       "1      194.75    154.08  201.51  212.75  2013.02\n",
       "2      187.86    154.76  193.62  209.24  2013.03\n",
       "3      182.29    151.69  187.19  190.31  2013.04\n",
       "4       180.8    151.11   185.2  176.83  2013.05\n",
       "..        ...       ...     ...     ...      ...\n",
       "67     132.79    105.19  130.57  137.18  2018.08\n",
       "68     140.82    111.67   139.0   143.9  2018.09\n",
       "69     144.15    113.75  142.63  153.17  2018.10\n",
       "70     127.28    115.46  123.17  124.75  2018.11\n",
       "71     116.86    115.23  111.28  100.99  2018.12\n",
       "\n",
       "[72 rows x 5 columns]"
      ]
     },
     "execution_count": 121,
     "metadata": {},
     "output_type": "execute_result"
    }
   ],
   "source": [
    "import_index"
   ]
  },
  {
   "cell_type": "code",
   "execution_count": 125,
   "metadata": {},
   "outputs": [],
   "source": [
    "for i in range(len(import_index['연월일'])):\n",
    "    import_index['연월일'][i] = import_index[\"연월일\"][i].replace('.', '-')"
   ]
  },
  {
   "cell_type": "code",
   "execution_count": 126,
   "metadata": {},
   "outputs": [
    {
     "data": {
      "text/html": [
       "<div>\n",
       "<style scoped>\n",
       "    .dataframe tbody tr th:only-of-type {\n",
       "        vertical-align: middle;\n",
       "    }\n",
       "\n",
       "    .dataframe tbody tr th {\n",
       "        vertical-align: top;\n",
       "    }\n",
       "\n",
       "    .dataframe thead th {\n",
       "        text-align: right;\n",
       "    }\n",
       "</style>\n",
       "<table border=\"1\" class=\"dataframe\">\n",
       "  <thead>\n",
       "    <tr style=\"text-align: right;\">\n",
       "      <th></th>\n",
       "      <th>석탄,원유및천연가스</th>\n",
       "      <th>천연가스(LNG)</th>\n",
       "      <th>원유및천연가스</th>\n",
       "      <th>액화석유가스</th>\n",
       "      <th>연월일</th>\n",
       "    </tr>\n",
       "  </thead>\n",
       "  <tbody>\n",
       "    <tr>\n",
       "      <th>0</th>\n",
       "      <td>190.46</td>\n",
       "      <td>151.82</td>\n",
       "      <td>196.33</td>\n",
       "      <td>223.27</td>\n",
       "      <td>2013-01</td>\n",
       "    </tr>\n",
       "    <tr>\n",
       "      <th>1</th>\n",
       "      <td>194.75</td>\n",
       "      <td>154.08</td>\n",
       "      <td>201.51</td>\n",
       "      <td>212.75</td>\n",
       "      <td>2013-02</td>\n",
       "    </tr>\n",
       "    <tr>\n",
       "      <th>2</th>\n",
       "      <td>187.86</td>\n",
       "      <td>154.76</td>\n",
       "      <td>193.62</td>\n",
       "      <td>209.24</td>\n",
       "      <td>2013-03</td>\n",
       "    </tr>\n",
       "    <tr>\n",
       "      <th>3</th>\n",
       "      <td>182.29</td>\n",
       "      <td>151.69</td>\n",
       "      <td>187.19</td>\n",
       "      <td>190.31</td>\n",
       "      <td>2013-04</td>\n",
       "    </tr>\n",
       "    <tr>\n",
       "      <th>4</th>\n",
       "      <td>180.8</td>\n",
       "      <td>151.11</td>\n",
       "      <td>185.2</td>\n",
       "      <td>176.83</td>\n",
       "      <td>2013-05</td>\n",
       "    </tr>\n",
       "    <tr>\n",
       "      <th>...</th>\n",
       "      <td>...</td>\n",
       "      <td>...</td>\n",
       "      <td>...</td>\n",
       "      <td>...</td>\n",
       "      <td>...</td>\n",
       "    </tr>\n",
       "    <tr>\n",
       "      <th>67</th>\n",
       "      <td>132.79</td>\n",
       "      <td>105.19</td>\n",
       "      <td>130.57</td>\n",
       "      <td>137.18</td>\n",
       "      <td>2018-08</td>\n",
       "    </tr>\n",
       "    <tr>\n",
       "      <th>68</th>\n",
       "      <td>140.82</td>\n",
       "      <td>111.67</td>\n",
       "      <td>139.0</td>\n",
       "      <td>143.9</td>\n",
       "      <td>2018-09</td>\n",
       "    </tr>\n",
       "    <tr>\n",
       "      <th>69</th>\n",
       "      <td>144.15</td>\n",
       "      <td>113.75</td>\n",
       "      <td>142.63</td>\n",
       "      <td>153.17</td>\n",
       "      <td>2018-10</td>\n",
       "    </tr>\n",
       "    <tr>\n",
       "      <th>70</th>\n",
       "      <td>127.28</td>\n",
       "      <td>115.46</td>\n",
       "      <td>123.17</td>\n",
       "      <td>124.75</td>\n",
       "      <td>2018-11</td>\n",
       "    </tr>\n",
       "    <tr>\n",
       "      <th>71</th>\n",
       "      <td>116.86</td>\n",
       "      <td>115.23</td>\n",
       "      <td>111.28</td>\n",
       "      <td>100.99</td>\n",
       "      <td>2018-12</td>\n",
       "    </tr>\n",
       "  </tbody>\n",
       "</table>\n",
       "<p>72 rows × 5 columns</p>\n",
       "</div>"
      ],
      "text/plain": [
       "   석탄,원유및천연가스 천연가스(LNG) 원유및천연가스  액화석유가스      연월일\n",
       "0      190.46    151.82  196.33  223.27  2013-01\n",
       "1      194.75    154.08  201.51  212.75  2013-02\n",
       "2      187.86    154.76  193.62  209.24  2013-03\n",
       "3      182.29    151.69  187.19  190.31  2013-04\n",
       "4       180.8    151.11   185.2  176.83  2013-05\n",
       "..        ...       ...     ...     ...      ...\n",
       "67     132.79    105.19  130.57  137.18  2018-08\n",
       "68     140.82    111.67   139.0   143.9  2018-09\n",
       "69     144.15    113.75  142.63  153.17  2018-10\n",
       "70     127.28    115.46  123.17  124.75  2018-11\n",
       "71     116.86    115.23  111.28  100.99  2018-12\n",
       "\n",
       "[72 rows x 5 columns]"
      ]
     },
     "execution_count": 126,
     "metadata": {},
     "output_type": "execute_result"
    }
   ],
   "source": [
    "import_index"
   ]
  },
  {
   "cell_type": "code",
   "execution_count": 127,
   "metadata": {},
   "outputs": [],
   "source": [
    "import_index['연월일'] = pd.to_datetime(import_index['연월일'])\n",
    "import_index['year'] = import_index['연월일'].dt.year\n",
    "import_index['month'] = import_index['연월일'].dt.month"
   ]
  },
  {
   "cell_type": "code",
   "execution_count": 129,
   "metadata": {},
   "outputs": [],
   "source": [
    "import_index.drop(['연월일'], axis = 1, inplace = True)"
   ]
  },
  {
   "cell_type": "code",
   "execution_count": 130,
   "metadata": {},
   "outputs": [
    {
     "data": {
      "text/html": [
       "<div>\n",
       "<style scoped>\n",
       "    .dataframe tbody tr th:only-of-type {\n",
       "        vertical-align: middle;\n",
       "    }\n",
       "\n",
       "    .dataframe tbody tr th {\n",
       "        vertical-align: top;\n",
       "    }\n",
       "\n",
       "    .dataframe thead th {\n",
       "        text-align: right;\n",
       "    }\n",
       "</style>\n",
       "<table border=\"1\" class=\"dataframe\">\n",
       "  <thead>\n",
       "    <tr style=\"text-align: right;\">\n",
       "      <th></th>\n",
       "      <th>석탄,원유및천연가스</th>\n",
       "      <th>천연가스(LNG)</th>\n",
       "      <th>원유및천연가스</th>\n",
       "      <th>액화석유가스</th>\n",
       "      <th>year</th>\n",
       "      <th>month</th>\n",
       "    </tr>\n",
       "  </thead>\n",
       "  <tbody>\n",
       "    <tr>\n",
       "      <th>0</th>\n",
       "      <td>190.46</td>\n",
       "      <td>151.82</td>\n",
       "      <td>196.33</td>\n",
       "      <td>223.27</td>\n",
       "      <td>2013</td>\n",
       "      <td>1</td>\n",
       "    </tr>\n",
       "    <tr>\n",
       "      <th>1</th>\n",
       "      <td>194.75</td>\n",
       "      <td>154.08</td>\n",
       "      <td>201.51</td>\n",
       "      <td>212.75</td>\n",
       "      <td>2013</td>\n",
       "      <td>2</td>\n",
       "    </tr>\n",
       "    <tr>\n",
       "      <th>2</th>\n",
       "      <td>187.86</td>\n",
       "      <td>154.76</td>\n",
       "      <td>193.62</td>\n",
       "      <td>209.24</td>\n",
       "      <td>2013</td>\n",
       "      <td>3</td>\n",
       "    </tr>\n",
       "    <tr>\n",
       "      <th>3</th>\n",
       "      <td>182.29</td>\n",
       "      <td>151.69</td>\n",
       "      <td>187.19</td>\n",
       "      <td>190.31</td>\n",
       "      <td>2013</td>\n",
       "      <td>4</td>\n",
       "    </tr>\n",
       "    <tr>\n",
       "      <th>4</th>\n",
       "      <td>180.8</td>\n",
       "      <td>151.11</td>\n",
       "      <td>185.2</td>\n",
       "      <td>176.83</td>\n",
       "      <td>2013</td>\n",
       "      <td>5</td>\n",
       "    </tr>\n",
       "    <tr>\n",
       "      <th>...</th>\n",
       "      <td>...</td>\n",
       "      <td>...</td>\n",
       "      <td>...</td>\n",
       "      <td>...</td>\n",
       "      <td>...</td>\n",
       "      <td>...</td>\n",
       "    </tr>\n",
       "    <tr>\n",
       "      <th>67</th>\n",
       "      <td>132.79</td>\n",
       "      <td>105.19</td>\n",
       "      <td>130.57</td>\n",
       "      <td>137.18</td>\n",
       "      <td>2018</td>\n",
       "      <td>8</td>\n",
       "    </tr>\n",
       "    <tr>\n",
       "      <th>68</th>\n",
       "      <td>140.82</td>\n",
       "      <td>111.67</td>\n",
       "      <td>139.0</td>\n",
       "      <td>143.9</td>\n",
       "      <td>2018</td>\n",
       "      <td>9</td>\n",
       "    </tr>\n",
       "    <tr>\n",
       "      <th>69</th>\n",
       "      <td>144.15</td>\n",
       "      <td>113.75</td>\n",
       "      <td>142.63</td>\n",
       "      <td>153.17</td>\n",
       "      <td>2018</td>\n",
       "      <td>10</td>\n",
       "    </tr>\n",
       "    <tr>\n",
       "      <th>70</th>\n",
       "      <td>127.28</td>\n",
       "      <td>115.46</td>\n",
       "      <td>123.17</td>\n",
       "      <td>124.75</td>\n",
       "      <td>2018</td>\n",
       "      <td>11</td>\n",
       "    </tr>\n",
       "    <tr>\n",
       "      <th>71</th>\n",
       "      <td>116.86</td>\n",
       "      <td>115.23</td>\n",
       "      <td>111.28</td>\n",
       "      <td>100.99</td>\n",
       "      <td>2018</td>\n",
       "      <td>12</td>\n",
       "    </tr>\n",
       "  </tbody>\n",
       "</table>\n",
       "<p>72 rows × 6 columns</p>\n",
       "</div>"
      ],
      "text/plain": [
       "   석탄,원유및천연가스 천연가스(LNG) 원유및천연가스  액화석유가스  year  month\n",
       "0      190.46    151.82  196.33  223.27  2013      1\n",
       "1      194.75    154.08  201.51  212.75  2013      2\n",
       "2      187.86    154.76  193.62  209.24  2013      3\n",
       "3      182.29    151.69  187.19  190.31  2013      4\n",
       "4       180.8    151.11   185.2  176.83  2013      5\n",
       "..        ...       ...     ...     ...   ...    ...\n",
       "67     132.79    105.19  130.57  137.18  2018      8\n",
       "68     140.82    111.67   139.0   143.9  2018      9\n",
       "69     144.15    113.75  142.63  153.17  2018     10\n",
       "70     127.28    115.46  123.17  124.75  2018     11\n",
       "71     116.86    115.23  111.28  100.99  2018     12\n",
       "\n",
       "[72 rows x 6 columns]"
      ]
     },
     "execution_count": 130,
     "metadata": {},
     "output_type": "execute_result"
    }
   ],
   "source": [
    "import_index"
   ]
  },
  {
   "cell_type": "code",
   "execution_count": 1,
   "metadata": {},
   "outputs": [
    {
     "name": "stdout",
     "output_type": "stream",
     "text": [
      "1\n"
     ]
    }
   ],
   "source": [
    "print(1)"
   ]
  }
 ],
 "metadata": {
  "colab": {
   "provenance": []
  },
  "kernelspec": {
   "display_name": "Python 3 (ipykernel)",
   "language": "python",
   "name": "python3"
  },
  "language_info": {
   "codemirror_mode": {
    "name": "ipython",
    "version": 3
   },
   "file_extension": ".py",
   "mimetype": "text/x-python",
   "name": "python",
   "nbconvert_exporter": "python",
   "pygments_lexer": "ipython3",
   "version": "3.9.13"
  }
 },
 "nbformat": 4,
 "nbformat_minor": 1
}
