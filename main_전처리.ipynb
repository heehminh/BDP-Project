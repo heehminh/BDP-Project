{
  "nbformat": 4,
  "nbformat_minor": 0,
  "metadata": {
    "colab": {
      "provenance": []
    },
    "kernelspec": {
      "name": "python3",
      "display_name": "Python 3"
    },
    "language_info": {
      "name": "python"
    }
  },
  "cells": [
    {
      "cell_type": "code",
      "execution_count": 39,
      "metadata": {
        "id": "e1XvIS16mkga"
      },
      "outputs": [],
      "source": [
        "import os\n",
        "import pandas as pd\n",
        "import numpy as np"
      ]
    },
    {
      "cell_type": "code",
      "source": [
        "for dirname, _, filenames in os.walk('/content/drive/MyDrive/Colab Notebooks/빅데프/BDP_Project/gas_data'):\n",
        "  for filename in filenames:\n",
        "    print(os.path.join(dirname, filename))"
      ],
      "metadata": {
        "colab": {
          "base_uri": "https://localhost:8080/"
        },
        "id": "ialVAL68Ge5a",
        "outputId": "682a7bcc-8cac-4473-e1fa-09daaf198907"
      },
      "execution_count": 40,
      "outputs": [
        {
          "output_type": "stream",
          "name": "stdout",
          "text": [
            "/content/drive/MyDrive/Colab Notebooks/빅데프/BDP_Project/gas_data/electricity.csv\n",
            "/content/drive/MyDrive/Colab Notebooks/빅데프/BDP_Project/gas_data/production_index.csv\n",
            "/content/drive/MyDrive/Colab Notebooks/빅데프/BDP_Project/gas_data/main.csv\n",
            "/content/drive/MyDrive/Colab Notebooks/빅데프/BDP_Project/gas_data/oil.csv\n",
            "/content/drive/MyDrive/Colab Notebooks/빅데프/BDP_Project/gas_data/temp2014.csv\n",
            "/content/drive/MyDrive/Colab Notebooks/빅데프/BDP_Project/gas_data/temp2017.csv\n",
            "/content/drive/MyDrive/Colab Notebooks/빅데프/BDP_Project/gas_data/temp2015.csv\n",
            "/content/drive/MyDrive/Colab Notebooks/빅데프/BDP_Project/gas_data/temp2016.csv\n",
            "/content/drive/MyDrive/Colab Notebooks/빅데프/BDP_Project/gas_data/temp2018.csv\n",
            "/content/drive/MyDrive/Colab Notebooks/빅데프/BDP_Project/gas_data/temp2013.csv\n"
          ]
        }
      ]
    },
    {
      "cell_type": "code",
      "source": [
        "main = pd.read_csv('/content/drive/MyDrive/Colab Notebooks/빅데프/BDP_Project/gas_data/main.csv', encoding = 'cp949')\n",
        "temp2013 = pd.read_csv('/content/drive/MyDrive/Colab Notebooks/빅데프/BDP_Project/gas_data/temp2013.csv', encoding = 'cp949')\n",
        "temp2014 = pd.read_csv('/content/drive/MyDrive/Colab Notebooks/빅데프/BDP_Project/gas_data/temp2014.csv', encoding = 'cp949')\n",
        "temp2015 = pd.read_csv('/content/drive/MyDrive/Colab Notebooks/빅데프/BDP_Project/gas_data/temp2015.csv', encoding = 'cp949')\n",
        "temp2016 = pd.read_csv('/content/drive/MyDrive/Colab Notebooks/빅데프/BDP_Project/gas_data/temp2016.csv', encoding = 'cp949')\n",
        "temp2017 = pd.read_csv('/content/drive/MyDrive/Colab Notebooks/빅데프/BDP_Project/gas_data/temp2017.csv', encoding ='cp949')\n",
        "temp2018 = pd.read_csv('/content/drive/MyDrive/Colab Notebooks/빅데프/BDP_Project/gas_data/temp2018.csv', encoding = 'cp949')\n",
        "oil = pd.read_csv('/content/drive/MyDrive/Colab Notebooks/빅데프/BDP_Project/gas_data/oil.csv', encoding = 'cp949')\n",
        "production_index = pd.read_csv('/content/drive/MyDrive/Colab Notebooks/빅데프/BDP_Project/gas_data/production_index.csv', encoding = 'cp949')\n",
        "electricity = pd.read_csv('/content/drive/MyDrive/Colab Notebooks/빅데프/BDP_Project/gas_data/electricity.csv', encoding = 'cp949')"
      ],
      "metadata": {
        "id": "uQzhE_l6KPl6"
      },
      "execution_count": 41,
      "outputs": []
    },
    {
      "cell_type": "code",
      "source": [
        "main['구분'].unique()"
      ],
      "metadata": {
        "colab": {
          "base_uri": "https://localhost:8080/"
        },
        "id": "P3X_CpiuMqak",
        "outputId": "b8fa4610-25fe-43d4-f844-e5f0d8d766f5"
      },
      "execution_count": 42,
      "outputs": [
        {
          "output_type": "execute_result",
          "data": {
            "text/plain": [
              "array(['A', 'B', 'C', 'D', 'E', 'G', 'H'], dtype=object)"
            ]
          },
          "metadata": {},
          "execution_count": 42
        }
      ]
    },
    {
      "cell_type": "code",
      "source": [
        "#main의 구분\n",
        "d_map={}\n",
        "for i, d in enumerate(main['구분'].unique()):\n",
        "  d_map[d] = i\n",
        "\n",
        "#A,B,C,D,E,F,..를 0,1,2,3,4,5,6으로 구분\n",
        "main['구분'] = main['구분'].map(d_map)\n",
        "main['구분']"
      ],
      "metadata": {
        "colab": {
          "base_uri": "https://localhost:8080/"
        },
        "id": "Y3GFCvaAVFMO",
        "outputId": "4990abe0-3511-4050-c784-f3397c852f9e"
      },
      "execution_count": 43,
      "outputs": [
        {
          "output_type": "execute_result",
          "data": {
            "text/plain": [
              "0         0\n",
              "1         0\n",
              "2         0\n",
              "3         0\n",
              "4         0\n",
              "         ..\n",
              "368083    6\n",
              "368084    6\n",
              "368085    6\n",
              "368086    6\n",
              "368087    6\n",
              "Name: 구분, Length: 368088, dtype: int64"
            ]
          },
          "metadata": {},
          "execution_count": 43
        }
      ]
    },
    {
      "cell_type": "code",
      "source": [
        "main['연월일'] = pd.to_datetime(main['연월일'])\n",
        "main['year'] = main['연월일'].dt.year\n",
        "main['month'] = main['연월일'].dt.month\n",
        "main['day'] = main['연월일'].dt.day"
      ],
      "metadata": {
        "id": "3YEH9LXbWn7R"
      },
      "execution_count": 44,
      "outputs": []
    },
    {
      "cell_type": "code",
      "source": [
        "def outliers_processing(df):\n",
        "  q1, q3 = np.percentile(df, [25, 75])\n",
        "  iqr = q3-q1\n",
        "  lower_bound = q1-(iqr*1.5)\n",
        "  upper_bound = q3 + (iqr*1.5)\n",
        "  return lower_bound, upper_bound"
      ],
      "metadata": {
        "id": "Qr2fLVpEY5oE"
      },
      "execution_count": 45,
      "outputs": []
    },
    {
      "cell_type": "code",
      "source": [
        "main_by_sections = {}\n",
        "for i in range(7):\n",
        "  main_by_sections[i] = main[main['구분'] == i]\n",
        "main_by_sections"
      ],
      "metadata": {
        "colab": {
          "base_uri": "https://localhost:8080/"
        },
        "id": "ri1ENl79ZYT7",
        "outputId": "03f7976c-21eb-4299-f72c-7a5fed8865fb"
      },
      "execution_count": 46,
      "outputs": [
        {
          "output_type": "execute_result",
          "data": {
            "text/plain": [
              "{0:               연월일  시간  구분       공급량  year  month  day\n",
              " 0      2013-01-01   1   0  2497.129  2013      1    1\n",
              " 1      2013-01-01   2   0  2363.265  2013      1    1\n",
              " 2      2013-01-01   3   0  2258.505  2013      1    1\n",
              " 3      2013-01-01   4   0  2243.969  2013      1    1\n",
              " 4      2013-01-01   5   0  2344.105  2013      1    1\n",
              " ...           ...  ..  ..       ...   ...    ...  ...\n",
              " 315523 2018-12-31  20   0  3040.868  2018     12   31\n",
              " 315524 2018-12-31  21   0  2973.577  2018     12   31\n",
              " 315525 2018-12-31  22   0  2840.272  2018     12   31\n",
              " 315526 2018-12-31  23   0  2692.385  2018     12   31\n",
              " 315527 2018-12-31  24   0  2583.340  2018     12   31\n",
              " \n",
              " [52584 rows x 7 columns],\n",
              " 1:               연월일  시간  구분       공급량  year  month  day\n",
              " 8760   2013-01-01   1   1  2169.093  2013      1    1\n",
              " 8761   2013-01-01   2   1  2051.733  2013      1    1\n",
              " 8762   2013-01-01   3   1  1923.253  2013      1    1\n",
              " 8763   2013-01-01   4   1  1927.253  2013      1    1\n",
              " 8764   2013-01-01   5   1  2047.333  2013      1    1\n",
              " ...           ...  ..  ..       ...   ...    ...  ...\n",
              " 324283 2018-12-31  20   1  2668.688  2018     12   31\n",
              " 324284 2018-12-31  21   1  2606.681  2018     12   31\n",
              " 324285 2018-12-31  22   1  2540.169  2018     12   31\n",
              " 324286 2018-12-31  23   1  2407.945  2018     12   31\n",
              " 324287 2018-12-31  24   1  2290.154  2018     12   31\n",
              " \n",
              " [52584 rows x 7 columns],\n",
              " 2:               연월일  시간  구분      공급량  year  month  day\n",
              " 17520  2013-01-01   1   2  226.178  2013      1    1\n",
              " 17521  2013-01-01   2   2  215.778  2013      1    1\n",
              " 17522  2013-01-01   3   2  202.178  2013      1    1\n",
              " 17523  2013-01-01   4   2  198.978  2013      1    1\n",
              " 17524  2013-01-01   5   2  200.578  2013      1    1\n",
              " ...           ...  ..  ..      ...   ...    ...  ...\n",
              " 333043 2018-12-31  20   2  265.980  2018     12   31\n",
              " 333044 2018-12-31  21   2  262.239  2018     12   31\n",
              " 333045 2018-12-31  22   2  256.000  2018     12   31\n",
              " 333046 2018-12-31  23   2  246.020  2018     12   31\n",
              " 333047 2018-12-31  24   2  237.911  2018     12   31\n",
              " \n",
              " [52584 rows x 7 columns],\n",
              " 3:               연월일  시간  구분       공급량  year  month  day\n",
              " 26280  2013-01-01   1   3  1434.516  2013      1    1\n",
              " 26281  2013-01-01   2   3  1345.636  2013      1    1\n",
              " 26282  2013-01-01   3   3  1270.756  2013      1    1\n",
              " 26283  2013-01-01   4   3  1322.036  2013      1    1\n",
              " 26284  2013-01-01   5   3  1421.956  2013      1    1\n",
              " ...           ...  ..  ..       ...   ...    ...  ...\n",
              " 341803 2018-12-31  20   3  1835.411  2018     12   31\n",
              " 341804 2018-12-31  21   3  1767.964  2018     12   31\n",
              " 341805 2018-12-31  22   3  1720.595  2018     12   31\n",
              " 341806 2018-12-31  23   3  1624.138  2018     12   31\n",
              " 341807 2018-12-31  24   3  1422.478  2018     12   31\n",
              " \n",
              " [52584 rows x 7 columns],\n",
              " 4:               연월일  시간  구분       공급량  year  month  day\n",
              " 35040  2013-01-01   1   4  3272.837  2013      1    1\n",
              " 35041  2013-01-01   2   4  3057.125  2013      1    1\n",
              " 35042  2013-01-01   3   4  2907.765  2013      1    1\n",
              " 35043  2013-01-01   4   4  2930.789  2013      1    1\n",
              " 35044  2013-01-01   5   4  3067.805  2013      1    1\n",
              " ...           ...  ..  ..       ...   ...    ...  ...\n",
              " 350563 2018-12-31  20   4  4074.485  2018     12   31\n",
              " 350564 2018-12-31  21   4  4037.720  2018     12   31\n",
              " 350565 2018-12-31  22   4  3954.210  2018     12   31\n",
              " 350566 2018-12-31  23   4  3745.844  2018     12   31\n",
              " 350567 2018-12-31  24   4  3534.260  2018     12   31\n",
              " \n",
              " [52584 rows x 7 columns],\n",
              " 5:               연월일  시간  구분       공급량  year  month  day\n",
              " 43800  2013-01-01   1   5  3560.365  2013      1    1\n",
              " 43801  2013-01-01   2   5  3354.245  2013      1    1\n",
              " 43802  2013-01-01   3   5  3115.757  2013      1    1\n",
              " 43803  2013-01-01   4   5  3034.237  2013      1    1\n",
              " 43804  2013-01-01   5   5  3050.469  2013      1    1\n",
              " ...           ...  ..  ..       ...   ...    ...  ...\n",
              " 359323 2018-12-31  20   5  4657.562  2018     12   31\n",
              " 359324 2018-12-31  21   5  4486.845  2018     12   31\n",
              " 359325 2018-12-31  22   5  4354.915  2018     12   31\n",
              " 359326 2018-12-31  23   5  4204.484  2018     12   31\n",
              " 359327 2018-12-31  24   5  3982.757  2018     12   31\n",
              " \n",
              " [52584 rows x 7 columns],\n",
              " 6:               연월일  시간  구분      공급량  year  month  day\n",
              " 52560  2013-01-01   1   6  562.964  2013      1    1\n",
              " 52561  2013-01-01   2   6  531.228  2013      1    1\n",
              " 52562  2013-01-01   3   6  496.276  2013      1    1\n",
              " 52563  2013-01-01   4   6  489.396  2013      1    1\n",
              " 52564  2013-01-01   5   6  535.420  2013      1    1\n",
              " ...           ...  ..  ..      ...   ...    ...  ...\n",
              " 368083 2018-12-31  20   6  681.033  2018     12   31\n",
              " 368084 2018-12-31  21   6  669.961  2018     12   31\n",
              " 368085 2018-12-31  22   6  657.941  2018     12   31\n",
              " 368086 2018-12-31  23   6  610.953  2018     12   31\n",
              " 368087 2018-12-31  24   6  560.896  2018     12   31\n",
              " \n",
              " [52584 rows x 7 columns]}"
            ]
          },
          "metadata": {},
          "execution_count": 46
        }
      ]
    },
    {
      "cell_type": "code",
      "source": [
        "lower = {}\n",
        "upper = {}\n",
        "for i in range(7):\n",
        "  lower[i] = {}\n",
        "  upper[i] = {}\n",
        "  for j in range(12):\n",
        "    lower[i][j], upper[i][j]= outliers_processing(main_by_sections[i][main_by_sections[i]['month'] == j+1]['공급량'])\n",
        "\n"
      ],
      "metadata": {
        "id": "fgezGOFXaqE0"
      },
      "execution_count": 47,
      "outputs": []
    },
    {
      "cell_type": "code",
      "source": [
        "main['lower'] =\"\"\n",
        "main['upper'] =\"\""
      ],
      "metadata": {
        "id": "Rxsuih6BdGKI"
      },
      "execution_count": 48,
      "outputs": []
    },
    {
      "cell_type": "code",
      "source": [
        "for i in range(7):\n",
        "  for j in range(12):\n",
        "    main.loc[(main['구분']==i)&(main['month']==j+1),'lower' ] = lower[i][j]\n",
        "    main.loc[(main['구분']==i)&(main['month']==j+1),'upper' ] = upper[i][j]"
      ],
      "metadata": {
        "id": "HVYhpPnldLs2"
      },
      "execution_count": 52,
      "outputs": []
    },
    {
      "cell_type": "code",
      "source": [
        "main['이상치처리_공급량'] =\"\""
      ],
      "metadata": {
        "id": "xM1xvFmMd9So"
      },
      "execution_count": 53,
      "outputs": []
    },
    {
      "cell_type": "code",
      "source": [
        "main['이상치처리_공급량'] = main.apply(lambda x: x['lower'] if x['공급량'] < x['lower'] else x['upper'] if x['공급량'] > x['upper'] else x['공급량'], axis = 1)"
      ],
      "metadata": {
        "id": "CsrISlsTeB0H"
      },
      "execution_count": 54,
      "outputs": []
    },
    {
      "cell_type": "code",
      "source": [
        "main['공급량'] = main['이상치처리_공급량']\n",
        "main = main.drop(['lower', 'upper', '이상치처리_공급량'], axis = 1)\n",
        "main"
      ],
      "metadata": {
        "colab": {
          "base_uri": "https://localhost:8080/",
          "height": 424
        },
        "id": "I8N97WvTefq8",
        "outputId": "175371f8-be5d-4300-97c2-0db4ffae99cf"
      },
      "execution_count": 55,
      "outputs": [
        {
          "output_type": "execute_result",
          "data": {
            "text/plain": [
              "              연월일  시간  구분       공급량  year  month  day\n",
              "0      2013-01-01   1   0  2497.129  2013      1    1\n",
              "1      2013-01-01   2   0  2363.265  2013      1    1\n",
              "2      2013-01-01   3   0  2258.505  2013      1    1\n",
              "3      2013-01-01   4   0  2243.969  2013      1    1\n",
              "4      2013-01-01   5   0  2344.105  2013      1    1\n",
              "...           ...  ..  ..       ...   ...    ...  ...\n",
              "368083 2018-12-31  20   6   681.033  2018     12   31\n",
              "368084 2018-12-31  21   6   669.961  2018     12   31\n",
              "368085 2018-12-31  22   6   657.941  2018     12   31\n",
              "368086 2018-12-31  23   6   610.953  2018     12   31\n",
              "368087 2018-12-31  24   6   560.896  2018     12   31\n",
              "\n",
              "[368088 rows x 7 columns]"
            ],
            "text/html": [
              "\n",
              "  <div id=\"df-b8f667dd-9581-4772-876d-378a497a402b\">\n",
              "    <div class=\"colab-df-container\">\n",
              "      <div>\n",
              "<style scoped>\n",
              "    .dataframe tbody tr th:only-of-type {\n",
              "        vertical-align: middle;\n",
              "    }\n",
              "\n",
              "    .dataframe tbody tr th {\n",
              "        vertical-align: top;\n",
              "    }\n",
              "\n",
              "    .dataframe thead th {\n",
              "        text-align: right;\n",
              "    }\n",
              "</style>\n",
              "<table border=\"1\" class=\"dataframe\">\n",
              "  <thead>\n",
              "    <tr style=\"text-align: right;\">\n",
              "      <th></th>\n",
              "      <th>연월일</th>\n",
              "      <th>시간</th>\n",
              "      <th>구분</th>\n",
              "      <th>공급량</th>\n",
              "      <th>year</th>\n",
              "      <th>month</th>\n",
              "      <th>day</th>\n",
              "    </tr>\n",
              "  </thead>\n",
              "  <tbody>\n",
              "    <tr>\n",
              "      <th>0</th>\n",
              "      <td>2013-01-01</td>\n",
              "      <td>1</td>\n",
              "      <td>0</td>\n",
              "      <td>2497.129</td>\n",
              "      <td>2013</td>\n",
              "      <td>1</td>\n",
              "      <td>1</td>\n",
              "    </tr>\n",
              "    <tr>\n",
              "      <th>1</th>\n",
              "      <td>2013-01-01</td>\n",
              "      <td>2</td>\n",
              "      <td>0</td>\n",
              "      <td>2363.265</td>\n",
              "      <td>2013</td>\n",
              "      <td>1</td>\n",
              "      <td>1</td>\n",
              "    </tr>\n",
              "    <tr>\n",
              "      <th>2</th>\n",
              "      <td>2013-01-01</td>\n",
              "      <td>3</td>\n",
              "      <td>0</td>\n",
              "      <td>2258.505</td>\n",
              "      <td>2013</td>\n",
              "      <td>1</td>\n",
              "      <td>1</td>\n",
              "    </tr>\n",
              "    <tr>\n",
              "      <th>3</th>\n",
              "      <td>2013-01-01</td>\n",
              "      <td>4</td>\n",
              "      <td>0</td>\n",
              "      <td>2243.969</td>\n",
              "      <td>2013</td>\n",
              "      <td>1</td>\n",
              "      <td>1</td>\n",
              "    </tr>\n",
              "    <tr>\n",
              "      <th>4</th>\n",
              "      <td>2013-01-01</td>\n",
              "      <td>5</td>\n",
              "      <td>0</td>\n",
              "      <td>2344.105</td>\n",
              "      <td>2013</td>\n",
              "      <td>1</td>\n",
              "      <td>1</td>\n",
              "    </tr>\n",
              "    <tr>\n",
              "      <th>...</th>\n",
              "      <td>...</td>\n",
              "      <td>...</td>\n",
              "      <td>...</td>\n",
              "      <td>...</td>\n",
              "      <td>...</td>\n",
              "      <td>...</td>\n",
              "      <td>...</td>\n",
              "    </tr>\n",
              "    <tr>\n",
              "      <th>368083</th>\n",
              "      <td>2018-12-31</td>\n",
              "      <td>20</td>\n",
              "      <td>6</td>\n",
              "      <td>681.033</td>\n",
              "      <td>2018</td>\n",
              "      <td>12</td>\n",
              "      <td>31</td>\n",
              "    </tr>\n",
              "    <tr>\n",
              "      <th>368084</th>\n",
              "      <td>2018-12-31</td>\n",
              "      <td>21</td>\n",
              "      <td>6</td>\n",
              "      <td>669.961</td>\n",
              "      <td>2018</td>\n",
              "      <td>12</td>\n",
              "      <td>31</td>\n",
              "    </tr>\n",
              "    <tr>\n",
              "      <th>368085</th>\n",
              "      <td>2018-12-31</td>\n",
              "      <td>22</td>\n",
              "      <td>6</td>\n",
              "      <td>657.941</td>\n",
              "      <td>2018</td>\n",
              "      <td>12</td>\n",
              "      <td>31</td>\n",
              "    </tr>\n",
              "    <tr>\n",
              "      <th>368086</th>\n",
              "      <td>2018-12-31</td>\n",
              "      <td>23</td>\n",
              "      <td>6</td>\n",
              "      <td>610.953</td>\n",
              "      <td>2018</td>\n",
              "      <td>12</td>\n",
              "      <td>31</td>\n",
              "    </tr>\n",
              "    <tr>\n",
              "      <th>368087</th>\n",
              "      <td>2018-12-31</td>\n",
              "      <td>24</td>\n",
              "      <td>6</td>\n",
              "      <td>560.896</td>\n",
              "      <td>2018</td>\n",
              "      <td>12</td>\n",
              "      <td>31</td>\n",
              "    </tr>\n",
              "  </tbody>\n",
              "</table>\n",
              "<p>368088 rows × 7 columns</p>\n",
              "</div>\n",
              "      <button class=\"colab-df-convert\" onclick=\"convertToInteractive('df-b8f667dd-9581-4772-876d-378a497a402b')\"\n",
              "              title=\"Convert this dataframe to an interactive table.\"\n",
              "              style=\"display:none;\">\n",
              "        \n",
              "  <svg xmlns=\"http://www.w3.org/2000/svg\" height=\"24px\"viewBox=\"0 0 24 24\"\n",
              "       width=\"24px\">\n",
              "    <path d=\"M0 0h24v24H0V0z\" fill=\"none\"/>\n",
              "    <path d=\"M18.56 5.44l.94 2.06.94-2.06 2.06-.94-2.06-.94-.94-2.06-.94 2.06-2.06.94zm-11 1L8.5 8.5l.94-2.06 2.06-.94-2.06-.94L8.5 2.5l-.94 2.06-2.06.94zm10 10l.94 2.06.94-2.06 2.06-.94-2.06-.94-.94-2.06-.94 2.06-2.06.94z\"/><path d=\"M17.41 7.96l-1.37-1.37c-.4-.4-.92-.59-1.43-.59-.52 0-1.04.2-1.43.59L10.3 9.45l-7.72 7.72c-.78.78-.78 2.05 0 2.83L4 21.41c.39.39.9.59 1.41.59.51 0 1.02-.2 1.41-.59l7.78-7.78 2.81-2.81c.8-.78.8-2.07 0-2.86zM5.41 20L4 18.59l7.72-7.72 1.47 1.35L5.41 20z\"/>\n",
              "  </svg>\n",
              "      </button>\n",
              "      \n",
              "  <style>\n",
              "    .colab-df-container {\n",
              "      display:flex;\n",
              "      flex-wrap:wrap;\n",
              "      gap: 12px;\n",
              "    }\n",
              "\n",
              "    .colab-df-convert {\n",
              "      background-color: #E8F0FE;\n",
              "      border: none;\n",
              "      border-radius: 50%;\n",
              "      cursor: pointer;\n",
              "      display: none;\n",
              "      fill: #1967D2;\n",
              "      height: 32px;\n",
              "      padding: 0 0 0 0;\n",
              "      width: 32px;\n",
              "    }\n",
              "\n",
              "    .colab-df-convert:hover {\n",
              "      background-color: #E2EBFA;\n",
              "      box-shadow: 0px 1px 2px rgba(60, 64, 67, 0.3), 0px 1px 3px 1px rgba(60, 64, 67, 0.15);\n",
              "      fill: #174EA6;\n",
              "    }\n",
              "\n",
              "    [theme=dark] .colab-df-convert {\n",
              "      background-color: #3B4455;\n",
              "      fill: #D2E3FC;\n",
              "    }\n",
              "\n",
              "    [theme=dark] .colab-df-convert:hover {\n",
              "      background-color: #434B5C;\n",
              "      box-shadow: 0px 1px 3px 1px rgba(0, 0, 0, 0.15);\n",
              "      filter: drop-shadow(0px 1px 2px rgba(0, 0, 0, 0.3));\n",
              "      fill: #FFFFFF;\n",
              "    }\n",
              "  </style>\n",
              "\n",
              "      <script>\n",
              "        const buttonEl =\n",
              "          document.querySelector('#df-b8f667dd-9581-4772-876d-378a497a402b button.colab-df-convert');\n",
              "        buttonEl.style.display =\n",
              "          google.colab.kernel.accessAllowed ? 'block' : 'none';\n",
              "\n",
              "        async function convertToInteractive(key) {\n",
              "          const element = document.querySelector('#df-b8f667dd-9581-4772-876d-378a497a402b');\n",
              "          const dataTable =\n",
              "            await google.colab.kernel.invokeFunction('convertToInteractive',\n",
              "                                                     [key], {});\n",
              "          if (!dataTable) return;\n",
              "\n",
              "          const docLinkHtml = 'Like what you see? Visit the ' +\n",
              "            '<a target=\"_blank\" href=https://colab.research.google.com/notebooks/data_table.ipynb>data table notebook</a>'\n",
              "            + ' to learn more about interactive tables.';\n",
              "          element.innerHTML = '';\n",
              "          dataTable['output_type'] = 'display_data';\n",
              "          await google.colab.output.renderOutput(dataTable, element);\n",
              "          const docLink = document.createElement('div');\n",
              "          docLink.innerHTML = docLinkHtml;\n",
              "          element.appendChild(docLink);\n",
              "        }\n",
              "      </script>\n",
              "    </div>\n",
              "  </div>\n",
              "  "
            ]
          },
          "metadata": {},
          "execution_count": 55
        }
      ]
    }
  ]
}